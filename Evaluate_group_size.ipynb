{
 "cells": [
  {
   "cell_type": "markdown",
   "metadata": {},
   "source": [
    "# Import libraries"
   ]
  },
  {
   "cell_type": "code",
   "execution_count": 1,
   "metadata": {},
   "outputs": [],
   "source": [
    "%load_ext autoreload\n",
    "%autoreload 2\n",
    "import numpy as np\n",
    "import pandas as pd\n",
    "import matplotlib.pyplot as plt\n",
    "import os\n",
    "from utils import *"
   ]
  },
  {
   "cell_type": "markdown",
   "metadata": {},
   "source": [
    "# Parameters"
   ]
  },
  {
   "cell_type": "code",
   "execution_count": 2,
   "metadata": {},
   "outputs": [],
   "source": [
    "fig_dir = 'data/figure'\n",
    "exp_name = 'compare_group_size'\n",
    "time_path = 'data/time/compare_group_size_2020_12_13_23_49_24.npy'\n",
    "cost_path = 'data/cost/compare_group_size_2020_12_13_23_49_24.npy'\n",
    "methods = ['greedy', 'approx', 'approx_woc']\n",
    "sizes = np.arange(4, 18, step=2)\n",
    "repeats = len(sizes)"
   ]
  },
  {
   "cell_type": "markdown",
   "metadata": {},
   "source": [
    "# Load data"
   ]
  },
  {
   "cell_type": "code",
   "execution_count": 3,
   "metadata": {},
   "outputs": [
    {
     "name": "stdout",
     "output_type": "stream",
     "text": [
      "(21,) (21,)\n",
      "Wall time: 998 µs\n"
     ]
    }
   ],
   "source": [
    "%%time\n",
    "run_time = np.load(time_path)\n",
    "travel_cost = np.load(cost_path)\n",
    "print(run_time.shape, travel_cost.shape)"
   ]
  },
  {
   "cell_type": "markdown",
   "metadata": {},
   "source": [
    "# Convert to DataFrame"
   ]
  },
  {
   "cell_type": "code",
   "execution_count": 4,
   "metadata": {},
   "outputs": [
    {
     "name": "stdout",
     "output_type": "stream",
     "text": [
      "(7, 4)\n",
      "<class 'pandas.core.frame.DataFrame'>\n",
      "RangeIndex: 7 entries, 0 to 6\n",
      "Data columns (total 4 columns):\n",
      " #   Column      Non-Null Count  Dtype  \n",
      "---  ------      --------------  -----  \n",
      " 0   greedy      7 non-null      float64\n",
      " 1   approx      7 non-null      float64\n",
      " 2   approx_woc  7 non-null      float64\n",
      " 3   size        7 non-null      int32  \n",
      "dtypes: float64(3), int32(1)\n",
      "memory usage: 324.0 bytes\n",
      "None\n"
     ]
    },
    {
     "data": {
      "text/html": [
       "<div>\n",
       "<style scoped>\n",
       "    .dataframe tbody tr th:only-of-type {\n",
       "        vertical-align: middle;\n",
       "    }\n",
       "\n",
       "    .dataframe tbody tr th {\n",
       "        vertical-align: top;\n",
       "    }\n",
       "\n",
       "    .dataframe thead th {\n",
       "        text-align: right;\n",
       "    }\n",
       "</style>\n",
       "<table border=\"1\" class=\"dataframe\">\n",
       "  <thead>\n",
       "    <tr style=\"text-align: right;\">\n",
       "      <th></th>\n",
       "      <th>greedy</th>\n",
       "      <th>approx</th>\n",
       "      <th>approx_woc</th>\n",
       "      <th>size</th>\n",
       "    </tr>\n",
       "  </thead>\n",
       "  <tbody>\n",
       "    <tr>\n",
       "      <th>0</th>\n",
       "      <td>0.000000</td>\n",
       "      <td>0.120382</td>\n",
       "      <td>0.058184</td>\n",
       "      <td>4</td>\n",
       "    </tr>\n",
       "    <tr>\n",
       "      <th>1</th>\n",
       "      <td>0.000000</td>\n",
       "      <td>0.253731</td>\n",
       "      <td>0.055441</td>\n",
       "      <td>6</td>\n",
       "    </tr>\n",
       "    <tr>\n",
       "      <th>2</th>\n",
       "      <td>0.000000</td>\n",
       "      <td>0.571940</td>\n",
       "      <td>0.056162</td>\n",
       "      <td>8</td>\n",
       "    </tr>\n",
       "    <tr>\n",
       "      <th>3</th>\n",
       "      <td>0.000000</td>\n",
       "      <td>0.839824</td>\n",
       "      <td>0.054442</td>\n",
       "      <td>10</td>\n",
       "    </tr>\n",
       "    <tr>\n",
       "      <th>4</th>\n",
       "      <td>0.000004</td>\n",
       "      <td>1.739359</td>\n",
       "      <td>0.052221</td>\n",
       "      <td>12</td>\n",
       "    </tr>\n",
       "    <tr>\n",
       "      <th>5</th>\n",
       "      <td>0.000000</td>\n",
       "      <td>5.114401</td>\n",
       "      <td>0.056437</td>\n",
       "      <td>14</td>\n",
       "    </tr>\n",
       "    <tr>\n",
       "      <th>6</th>\n",
       "      <td>0.000000</td>\n",
       "      <td>31.669110</td>\n",
       "      <td>0.083628</td>\n",
       "      <td>16</td>\n",
       "    </tr>\n",
       "  </tbody>\n",
       "</table>\n",
       "</div>"
      ],
      "text/plain": [
       "     greedy     approx  approx_woc  size\n",
       "0  0.000000   0.120382    0.058184     4\n",
       "1  0.000000   0.253731    0.055441     6\n",
       "2  0.000000   0.571940    0.056162     8\n",
       "3  0.000000   0.839824    0.054442    10\n",
       "4  0.000004   1.739359    0.052221    12\n",
       "5  0.000000   5.114401    0.056437    14\n",
       "6  0.000000  31.669110    0.083628    16"
      ]
     },
     "metadata": {},
     "output_type": "display_data"
    }
   ],
   "source": [
    "df_time = pd.DataFrame(run_time.reshape(repeats,-1)/np.power(10,6), columns=methods)\n",
    "df_time.loc[:, 'size'] = sizes\n",
    "print(df_time.shape)\n",
    "print(df_time.info())\n",
    "display(df_time)"
   ]
  },
  {
   "cell_type": "code",
   "execution_count": 5,
   "metadata": {},
   "outputs": [
    {
     "name": "stdout",
     "output_type": "stream",
     "text": [
      "(7, 4)\n",
      "<class 'pandas.core.frame.DataFrame'>\n",
      "RangeIndex: 7 entries, 0 to 6\n",
      "Data columns (total 4 columns):\n",
      " #   Column      Non-Null Count  Dtype  \n",
      "---  ------      --------------  -----  \n",
      " 0   greedy      7 non-null      float64\n",
      " 1   approx      7 non-null      float64\n",
      " 2   approx_woc  7 non-null      float64\n",
      " 3   size        7 non-null      int32  \n",
      "dtypes: float64(3), int32(1)\n",
      "memory usage: 324.0 bytes\n",
      "None\n"
     ]
    },
    {
     "data": {
      "text/html": [
       "<div>\n",
       "<style scoped>\n",
       "    .dataframe tbody tr th:only-of-type {\n",
       "        vertical-align: middle;\n",
       "    }\n",
       "\n",
       "    .dataframe tbody tr th {\n",
       "        vertical-align: top;\n",
       "    }\n",
       "\n",
       "    .dataframe thead th {\n",
       "        text-align: right;\n",
       "    }\n",
       "</style>\n",
       "<table border=\"1\" class=\"dataframe\">\n",
       "  <thead>\n",
       "    <tr style=\"text-align: right;\">\n",
       "      <th></th>\n",
       "      <th>greedy</th>\n",
       "      <th>approx</th>\n",
       "      <th>approx_woc</th>\n",
       "      <th>size</th>\n",
       "    </tr>\n",
       "  </thead>\n",
       "  <tbody>\n",
       "    <tr>\n",
       "      <th>0</th>\n",
       "      <td>10636.8</td>\n",
       "      <td>9429.1</td>\n",
       "      <td>9345.6</td>\n",
       "      <td>4</td>\n",
       "    </tr>\n",
       "    <tr>\n",
       "      <th>1</th>\n",
       "      <td>10636.8</td>\n",
       "      <td>9150.3</td>\n",
       "      <td>9345.6</td>\n",
       "      <td>6</td>\n",
       "    </tr>\n",
       "    <tr>\n",
       "      <th>2</th>\n",
       "      <td>10636.8</td>\n",
       "      <td>9154.8</td>\n",
       "      <td>9345.6</td>\n",
       "      <td>8</td>\n",
       "    </tr>\n",
       "    <tr>\n",
       "      <th>3</th>\n",
       "      <td>10636.8</td>\n",
       "      <td>9258.7</td>\n",
       "      <td>9345.6</td>\n",
       "      <td>10</td>\n",
       "    </tr>\n",
       "    <tr>\n",
       "      <th>4</th>\n",
       "      <td>10636.8</td>\n",
       "      <td>8902.2</td>\n",
       "      <td>9345.6</td>\n",
       "      <td>12</td>\n",
       "    </tr>\n",
       "    <tr>\n",
       "      <th>5</th>\n",
       "      <td>10636.8</td>\n",
       "      <td>8968.6</td>\n",
       "      <td>9345.6</td>\n",
       "      <td>14</td>\n",
       "    </tr>\n",
       "    <tr>\n",
       "      <th>6</th>\n",
       "      <td>10636.8</td>\n",
       "      <td>8823.4</td>\n",
       "      <td>9345.6</td>\n",
       "      <td>16</td>\n",
       "    </tr>\n",
       "  </tbody>\n",
       "</table>\n",
       "</div>"
      ],
      "text/plain": [
       "    greedy  approx  approx_woc  size\n",
       "0  10636.8  9429.1      9345.6     4\n",
       "1  10636.8  9150.3      9345.6     6\n",
       "2  10636.8  9154.8      9345.6     8\n",
       "3  10636.8  9258.7      9345.6    10\n",
       "4  10636.8  8902.2      9345.6    12\n",
       "5  10636.8  8968.6      9345.6    14\n",
       "6  10636.8  8823.4      9345.6    16"
      ]
     },
     "metadata": {},
     "output_type": "display_data"
    }
   ],
   "source": [
    "df_cost =  pd.DataFrame(travel_cost.reshape(repeats,-1), columns=methods)\n",
    "df_cost.loc[:, 'size'] = sizes\n",
    "print(df_cost.shape)\n",
    "print(df_cost.info())\n",
    "display(df_cost)"
   ]
  },
  {
   "cell_type": "markdown",
   "metadata": {},
   "source": [
    "# Calculate metrics "
   ]
  },
  {
   "cell_type": "markdown",
   "metadata": {},
   "source": [
    "## Processing time"
   ]
  },
  {
   "cell_type": "code",
   "execution_count": 6,
   "metadata": {},
   "outputs": [
    {
     "data": {
      "text/plain": [
       "greedy        5.714286e-07\n",
       "approx        5.758392e+00\n",
       "approx_woc    5.950223e-02\n",
       "size          1.000000e+01\n",
       "dtype: float64"
      ]
     },
     "execution_count": 6,
     "metadata": {},
     "output_type": "execute_result"
    }
   ],
   "source": [
    "df_time.mean()"
   ]
  },
  {
   "cell_type": "markdown",
   "metadata": {},
   "source": [
    "## Ride-sharing efficiency"
   ]
  },
  {
   "cell_type": "code",
   "execution_count": 7,
   "metadata": {},
   "outputs": [
    {
     "data": {
      "text/html": [
       "<div>\n",
       "<style scoped>\n",
       "    .dataframe tbody tr th:only-of-type {\n",
       "        vertical-align: middle;\n",
       "    }\n",
       "\n",
       "    .dataframe tbody tr th {\n",
       "        vertical-align: top;\n",
       "    }\n",
       "\n",
       "    .dataframe thead th {\n",
       "        text-align: right;\n",
       "    }\n",
       "</style>\n",
       "<table border=\"1\" class=\"dataframe\">\n",
       "  <thead>\n",
       "    <tr style=\"text-align: right;\">\n",
       "      <th></th>\n",
       "      <th>greedy</th>\n",
       "      <th>approx</th>\n",
       "      <th>approx_woc</th>\n",
       "      <th>size</th>\n",
       "      <th>approx_gain</th>\n",
       "      <th>approx_woc_gain</th>\n",
       "    </tr>\n",
       "  </thead>\n",
       "  <tbody>\n",
       "    <tr>\n",
       "      <th>0</th>\n",
       "      <td>10636.8</td>\n",
       "      <td>9429.1</td>\n",
       "      <td>9345.6</td>\n",
       "      <td>4</td>\n",
       "      <td>1.128082</td>\n",
       "      <td>1.138161</td>\n",
       "    </tr>\n",
       "    <tr>\n",
       "      <th>1</th>\n",
       "      <td>10636.8</td>\n",
       "      <td>9150.3</td>\n",
       "      <td>9345.6</td>\n",
       "      <td>6</td>\n",
       "      <td>1.162454</td>\n",
       "      <td>1.138161</td>\n",
       "    </tr>\n",
       "    <tr>\n",
       "      <th>2</th>\n",
       "      <td>10636.8</td>\n",
       "      <td>9154.8</td>\n",
       "      <td>9345.6</td>\n",
       "      <td>8</td>\n",
       "      <td>1.161882</td>\n",
       "      <td>1.138161</td>\n",
       "    </tr>\n",
       "    <tr>\n",
       "      <th>3</th>\n",
       "      <td>10636.8</td>\n",
       "      <td>9258.7</td>\n",
       "      <td>9345.6</td>\n",
       "      <td>10</td>\n",
       "      <td>1.148844</td>\n",
       "      <td>1.138161</td>\n",
       "    </tr>\n",
       "    <tr>\n",
       "      <th>4</th>\n",
       "      <td>10636.8</td>\n",
       "      <td>8902.2</td>\n",
       "      <td>9345.6</td>\n",
       "      <td>12</td>\n",
       "      <td>1.194851</td>\n",
       "      <td>1.138161</td>\n",
       "    </tr>\n",
       "    <tr>\n",
       "      <th>5</th>\n",
       "      <td>10636.8</td>\n",
       "      <td>8968.6</td>\n",
       "      <td>9345.6</td>\n",
       "      <td>14</td>\n",
       "      <td>1.186005</td>\n",
       "      <td>1.138161</td>\n",
       "    </tr>\n",
       "    <tr>\n",
       "      <th>6</th>\n",
       "      <td>10636.8</td>\n",
       "      <td>8823.4</td>\n",
       "      <td>9345.6</td>\n",
       "      <td>16</td>\n",
       "      <td>1.205522</td>\n",
       "      <td>1.138161</td>\n",
       "    </tr>\n",
       "  </tbody>\n",
       "</table>\n",
       "</div>"
      ],
      "text/plain": [
       "    greedy  approx  approx_woc  size  approx_gain  approx_woc_gain\n",
       "0  10636.8  9429.1      9345.6     4     1.128082         1.138161\n",
       "1  10636.8  9150.3      9345.6     6     1.162454         1.138161\n",
       "2  10636.8  9154.8      9345.6     8     1.161882         1.138161\n",
       "3  10636.8  9258.7      9345.6    10     1.148844         1.138161\n",
       "4  10636.8  8902.2      9345.6    12     1.194851         1.138161\n",
       "5  10636.8  8968.6      9345.6    14     1.186005         1.138161\n",
       "6  10636.8  8823.4      9345.6    16     1.205522         1.138161"
      ]
     },
     "metadata": {},
     "output_type": "display_data"
    }
   ],
   "source": [
    "df_cost.loc[:, 'approx_gain'] = df_cost['greedy']/df_cost['approx']\n",
    "df_cost.loc[:, 'approx_woc_gain'] = df_cost['greedy']/df_cost['approx_woc']\n",
    "display(df_cost)"
   ]
  },
  {
   "cell_type": "code",
   "execution_count": 8,
   "metadata": {},
   "outputs": [
    {
     "data": {
      "text/plain": [
       "approx_gain        1.169663\n",
       "approx_woc_gain    1.138161\n",
       "dtype: float64"
      ]
     },
     "execution_count": 8,
     "metadata": {},
     "output_type": "execute_result"
    }
   ],
   "source": [
    "df_cost[['approx_gain', 'approx_woc_gain']].mean()"
   ]
  },
  {
   "cell_type": "code",
   "execution_count": 9,
   "metadata": {},
   "outputs": [
    {
     "data": {
      "text/plain": [
       "greedy        10636.800000\n",
       "approx         9098.157143\n",
       "approx_woc     9345.600000\n",
       "dtype: float64"
      ]
     },
     "execution_count": 9,
     "metadata": {},
     "output_type": "execute_result"
    }
   ],
   "source": [
    "df_cost[['greedy', 'approx', 'approx_woc']].mean()"
   ]
  },
  {
   "cell_type": "markdown",
   "metadata": {},
   "source": [
    "# Plots"
   ]
  },
  {
   "cell_type": "markdown",
   "metadata": {},
   "source": [
    "## Processing time"
   ]
  },
  {
   "cell_type": "code",
   "execution_count": 10,
   "metadata": {},
   "outputs": [
    {
     "data": {
      "image/png": "[encoded data removed]",
      "text/plain": [
       "<Figure size 720x504 with 1 Axes>"
      ]
     },
     "metadata": {
      "needs_background": "light"
     },
     "output_type": "display_data"
    }
   ],
   "source": [
    "plot_proc_time(\n",
    "    df_time, \n",
    "    sizes, \n",
    "    exp_name, \n",
    "    ylim=(10**-2, 10**2), \n",
    "    xlabel='Group size'\n",
    ")"
   ]
  },
  {
   "cell_type": "markdown",
   "metadata": {},
   "source": [
    "## Travel cost"
   ]
  },
  {
   "cell_type": "code",
   "execution_count": 11,
   "metadata": {},
   "outputs": [
    {
     "data": {
      "image/png": "[encoded data removed]",
      "text/plain": [
       "<Figure size 720x504 with 1 Axes>"
      ]
     },
     "metadata": {
      "needs_background": "light"
     },
     "output_type": "display_data"
    }
   ],
   "source": [
    "plot_travel_cost(\n",
    "    df_cost, \n",
    "    sizes, \n",
    "    exp_name, \n",
    "    ylim=(8000,11000), \n",
    "    xlabel='Group size', \n",
    "    legend_loc=(0.5, 0.5)\n",
    ")"
   ]
  },
  {
   "cell_type": "markdown",
   "metadata": {},
   "source": [
    "## Ride-sharing efficiency"
   ]
  },
  {
   "cell_type": "code",
   "execution_count": 12,
   "metadata": {},
   "outputs": [
    {
     "data": {
      "image/png": "[encoded data removed]",
      "text/plain": [
       "<Figure size 720x504 with 1 Axes>"
      ]
     },
     "metadata": {
      "needs_background": "light"
     },
     "output_type": "display_data"
    }
   ],
   "source": [
    "plot_rs_efficiency(\n",
    "    df_cost, \n",
    "    sizes, \n",
    "    exp_name, \n",
    "    ylim=(0.9,1.3), \n",
    "    xlabel='Group size', \n",
    "    legend_loc=(0.3, 0.65)\n",
    ")"
   ]
  },
  {
   "cell_type": "code",
   "execution_count": null,
   "metadata": {},
   "outputs": [],
   "source": []
  }
 ],
 "metadata": {
  "kernelspec": {
   "display_name": "Python 3",
   "language": "python",
   "name": "python3"
  },
  "language_info": {
   "codemirror_mode": {
    "name": "ipython",
    "version": 3
   },
   "file_extension": ".py",
   "mimetype": "text/x-python",
   "name": "python",
   "nbconvert_exporter": "python",
   "pygments_lexer": "ipython3",
   "version": "3.6.10"
  }
 },
 "nbformat": 4,
 "nbformat_minor": 4
}
