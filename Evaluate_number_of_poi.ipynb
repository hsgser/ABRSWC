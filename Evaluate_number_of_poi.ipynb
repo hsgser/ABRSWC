{
 "cells": [
  {
   "cell_type": "markdown",
   "metadata": {},
   "source": [
    "# Import libraries"
   ]
  },
  {
   "cell_type": "code",
   "execution_count": 1,
   "metadata": {},
   "outputs": [],
   "source": [
    "%load_ext autoreload\n",
    "%autoreload 2\n",
    "import numpy as np\n",
    "import pandas as pd\n",
    "import matplotlib.pyplot as plt\n",
    "import os\n",
    "from utils import *\n",
    "\n",
    "plt.style.use('ggplot')"
   ]
  },
  {
   "cell_type": "markdown",
   "metadata": {},
   "source": [
    "# Parameters"
   ]
  },
  {
   "cell_type": "code",
   "execution_count": 2,
   "metadata": {},
   "outputs": [],
   "source": [
    "fig_dir = 'data/figure'\n",
    "exp_name = 'compare_number_of_poi'\n",
    "time_path = 'data/time/compare_number_of_poi_2020_12_3_2_55_21.npy'\n",
    "cost_path = 'data/cost/compare_number_of_poi_2020_12_3_2_55_21.npy'\n",
    "methods = ['greedy', 'approx', 'approx_woc']\n",
    "sizes = np.arange(10, 101, step=10)\n",
    "repeats = len(sizes)"
   ]
  },
  {
   "cell_type": "markdown",
   "metadata": {},
   "source": [
    "# Load data"
   ]
  },
  {
   "cell_type": "code",
   "execution_count": 3,
   "metadata": {},
   "outputs": [
    {
     "name": "stdout",
     "output_type": "stream",
     "text": [
      "(30,) (30,)\n",
      "Wall time: 6 ms\n"
     ]
    }
   ],
   "source": [
    "%%time\n",
    "run_time = np.load(time_path)\n",
    "travel_cost = np.load(cost_path)\n",
    "print(run_time.shape, travel_cost.shape)"
   ]
  },
  {
   "cell_type": "markdown",
   "metadata": {},
   "source": [
    "# Convert to DataFrame"
   ]
  },
  {
   "cell_type": "code",
   "execution_count": 4,
   "metadata": {},
   "outputs": [
    {
     "name": "stdout",
     "output_type": "stream",
     "text": [
      "(10, 4)\n",
      "<class 'pandas.core.frame.DataFrame'>\n",
      "RangeIndex: 10 entries, 0 to 9\n",
      "Data columns (total 4 columns):\n",
      " #   Column      Non-Null Count  Dtype  \n",
      "---  ------      --------------  -----  \n",
      " 0   greedy      10 non-null     float64\n",
      " 1   approx      10 non-null     float64\n",
      " 2   approx_woc  10 non-null     float64\n",
      " 3   size        10 non-null     int32  \n",
      "dtypes: float64(3), int32(1)\n",
      "memory usage: 408.0 bytes\n",
      "None\n"
     ]
    },
    {
     "data": {
      "text/html": [
       "<div>\n",
       "<style scoped>\n",
       "    .dataframe tbody tr th:only-of-type {\n",
       "        vertical-align: middle;\n",
       "    }\n",
       "\n",
       "    .dataframe tbody tr th {\n",
       "        vertical-align: top;\n",
       "    }\n",
       "\n",
       "    .dataframe thead th {\n",
       "        text-align: right;\n",
       "    }\n",
       "</style>\n",
       "<table border=\"1\" class=\"dataframe\">\n",
       "  <thead>\n",
       "    <tr style=\"text-align: right;\">\n",
       "      <th></th>\n",
       "      <th>greedy</th>\n",
       "      <th>approx</th>\n",
       "      <th>approx_woc</th>\n",
       "      <th>size</th>\n",
       "    </tr>\n",
       "  </thead>\n",
       "  <tbody>\n",
       "    <tr>\n",
       "      <th>0</th>\n",
       "      <td>0.000000</td>\n",
       "      <td>1.008765</td>\n",
       "      <td>0.259441</td>\n",
       "      <td>10</td>\n",
       "    </tr>\n",
       "    <tr>\n",
       "      <th>1</th>\n",
       "      <td>0.000000</td>\n",
       "      <td>0.901078</td>\n",
       "      <td>0.174665</td>\n",
       "      <td>20</td>\n",
       "    </tr>\n",
       "    <tr>\n",
       "      <th>2</th>\n",
       "      <td>0.000100</td>\n",
       "      <td>0.834144</td>\n",
       "      <td>0.099332</td>\n",
       "      <td>30</td>\n",
       "    </tr>\n",
       "    <tr>\n",
       "      <th>3</th>\n",
       "      <td>0.000200</td>\n",
       "      <td>0.904294</td>\n",
       "      <td>0.085457</td>\n",
       "      <td>40</td>\n",
       "    </tr>\n",
       "    <tr>\n",
       "      <th>4</th>\n",
       "      <td>0.000000</td>\n",
       "      <td>0.934009</td>\n",
       "      <td>0.049465</td>\n",
       "      <td>50</td>\n",
       "    </tr>\n",
       "    <tr>\n",
       "      <th>5</th>\n",
       "      <td>0.000199</td>\n",
       "      <td>0.830576</td>\n",
       "      <td>0.036386</td>\n",
       "      <td>60</td>\n",
       "    </tr>\n",
       "    <tr>\n",
       "      <th>6</th>\n",
       "      <td>0.000200</td>\n",
       "      <td>0.879151</td>\n",
       "      <td>0.035999</td>\n",
       "      <td>70</td>\n",
       "    </tr>\n",
       "    <tr>\n",
       "      <th>7</th>\n",
       "      <td>0.000000</td>\n",
       "      <td>0.783054</td>\n",
       "      <td>0.024537</td>\n",
       "      <td>80</td>\n",
       "    </tr>\n",
       "    <tr>\n",
       "      <th>8</th>\n",
       "      <td>0.000100</td>\n",
       "      <td>0.765565</td>\n",
       "      <td>0.035576</td>\n",
       "      <td>90</td>\n",
       "    </tr>\n",
       "    <tr>\n",
       "      <th>9</th>\n",
       "      <td>0.000100</td>\n",
       "      <td>0.727391</td>\n",
       "      <td>0.021145</td>\n",
       "      <td>100</td>\n",
       "    </tr>\n",
       "  </tbody>\n",
       "</table>\n",
       "</div>"
      ],
      "text/plain": [
       "     greedy    approx  approx_woc  size\n",
       "0  0.000000  1.008765    0.259441    10\n",
       "1  0.000000  0.901078    0.174665    20\n",
       "2  0.000100  0.834144    0.099332    30\n",
       "3  0.000200  0.904294    0.085457    40\n",
       "4  0.000000  0.934009    0.049465    50\n",
       "5  0.000199  0.830576    0.036386    60\n",
       "6  0.000200  0.879151    0.035999    70\n",
       "7  0.000000  0.783054    0.024537    80\n",
       "8  0.000100  0.765565    0.035576    90\n",
       "9  0.000100  0.727391    0.021145   100"
      ]
     },
     "metadata": {},
     "output_type": "display_data"
    }
   ],
   "source": [
    "df_time = pd.DataFrame(run_time.reshape(repeats,-1)/np.power(10,6), columns=methods)\n",
    "df_time.loc[:, 'size'] = sizes\n",
    "print(df_time.shape)\n",
    "print(df_time.info())\n",
    "display(df_time)"
   ]
  },
  {
   "cell_type": "code",
   "execution_count": 5,
   "metadata": {},
   "outputs": [
    {
     "name": "stdout",
     "output_type": "stream",
     "text": [
      "(10, 4)\n",
      "<class 'pandas.core.frame.DataFrame'>\n",
      "RangeIndex: 10 entries, 0 to 9\n",
      "Data columns (total 4 columns):\n",
      " #   Column      Non-Null Count  Dtype  \n",
      "---  ------      --------------  -----  \n",
      " 0   greedy      10 non-null     float64\n",
      " 1   approx      10 non-null     float64\n",
      " 2   approx_woc  10 non-null     float64\n",
      " 3   size        10 non-null     int32  \n",
      "dtypes: float64(3), int32(1)\n",
      "memory usage: 408.0 bytes\n",
      "None\n"
     ]
    },
    {
     "data": {
      "text/html": [
       "<div>\n",
       "<style scoped>\n",
       "    .dataframe tbody tr th:only-of-type {\n",
       "        vertical-align: middle;\n",
       "    }\n",
       "\n",
       "    .dataframe tbody tr th {\n",
       "        vertical-align: top;\n",
       "    }\n",
       "\n",
       "    .dataframe thead th {\n",
       "        text-align: right;\n",
       "    }\n",
       "</style>\n",
       "<table border=\"1\" class=\"dataframe\">\n",
       "  <thead>\n",
       "    <tr style=\"text-align: right;\">\n",
       "      <th></th>\n",
       "      <th>greedy</th>\n",
       "      <th>approx</th>\n",
       "      <th>approx_woc</th>\n",
       "      <th>size</th>\n",
       "    </tr>\n",
       "  </thead>\n",
       "  <tbody>\n",
       "    <tr>\n",
       "      <th>0</th>\n",
       "      <td>14713.7</td>\n",
       "      <td>10948.4</td>\n",
       "      <td>11283.6</td>\n",
       "      <td>10</td>\n",
       "    </tr>\n",
       "    <tr>\n",
       "      <th>1</th>\n",
       "      <td>11511.2</td>\n",
       "      <td>9560.3</td>\n",
       "      <td>9785.3</td>\n",
       "      <td>20</td>\n",
       "    </tr>\n",
       "    <tr>\n",
       "      <th>2</th>\n",
       "      <td>9283.5</td>\n",
       "      <td>7905.6</td>\n",
       "      <td>8328.0</td>\n",
       "      <td>30</td>\n",
       "    </tr>\n",
       "    <tr>\n",
       "      <th>3</th>\n",
       "      <td>7818.8</td>\n",
       "      <td>7135.7</td>\n",
       "      <td>7153.5</td>\n",
       "      <td>40</td>\n",
       "    </tr>\n",
       "    <tr>\n",
       "      <th>4</th>\n",
       "      <td>6395.7</td>\n",
       "      <td>5941.3</td>\n",
       "      <td>5992.5</td>\n",
       "      <td>50</td>\n",
       "    </tr>\n",
       "    <tr>\n",
       "      <th>5</th>\n",
       "      <td>6257.8</td>\n",
       "      <td>5789.8</td>\n",
       "      <td>5938.2</td>\n",
       "      <td>60</td>\n",
       "    </tr>\n",
       "    <tr>\n",
       "      <th>6</th>\n",
       "      <td>5781.1</td>\n",
       "      <td>5542.9</td>\n",
       "      <td>5612.5</td>\n",
       "      <td>70</td>\n",
       "    </tr>\n",
       "    <tr>\n",
       "      <th>7</th>\n",
       "      <td>5167.1</td>\n",
       "      <td>4926.6</td>\n",
       "      <td>5041.3</td>\n",
       "      <td>80</td>\n",
       "    </tr>\n",
       "    <tr>\n",
       "      <th>8</th>\n",
       "      <td>5527.6</td>\n",
       "      <td>5160.5</td>\n",
       "      <td>5217.3</td>\n",
       "      <td>90</td>\n",
       "    </tr>\n",
       "    <tr>\n",
       "      <th>9</th>\n",
       "      <td>4864.1</td>\n",
       "      <td>4666.8</td>\n",
       "      <td>4726.2</td>\n",
       "      <td>100</td>\n",
       "    </tr>\n",
       "  </tbody>\n",
       "</table>\n",
       "</div>"
      ],
      "text/plain": [
       "    greedy   approx  approx_woc  size\n",
       "0  14713.7  10948.4     11283.6    10\n",
       "1  11511.2   9560.3      9785.3    20\n",
       "2   9283.5   7905.6      8328.0    30\n",
       "3   7818.8   7135.7      7153.5    40\n",
       "4   6395.7   5941.3      5992.5    50\n",
       "5   6257.8   5789.8      5938.2    60\n",
       "6   5781.1   5542.9      5612.5    70\n",
       "7   5167.1   4926.6      5041.3    80\n",
       "8   5527.6   5160.5      5217.3    90\n",
       "9   4864.1   4666.8      4726.2   100"
      ]
     },
     "metadata": {},
     "output_type": "display_data"
    }
   ],
   "source": [
    "df_cost =  pd.DataFrame(travel_cost.reshape(repeats,-1), columns=methods)\n",
    "df_cost.loc[:, 'size'] = sizes\n",
    "print(df_cost.shape)\n",
    "print(df_cost.info())\n",
    "display(df_cost)"
   ]
  },
  {
   "cell_type": "markdown",
   "metadata": {},
   "source": [
    "# Calculate metrics "
   ]
  },
  {
   "cell_type": "markdown",
   "metadata": {},
   "source": [
    "## Processing time"
   ]
  },
  {
   "cell_type": "code",
   "execution_count": 6,
   "metadata": {},
   "outputs": [
    {
     "data": {
      "text/plain": [
       "greedy         0.000090\n",
       "approx         0.856803\n",
       "approx_woc     0.082200\n",
       "size          55.000000\n",
       "dtype: float64"
      ]
     },
     "execution_count": 6,
     "metadata": {},
     "output_type": "execute_result"
    }
   ],
   "source": [
    "df_time.mean()"
   ]
  },
  {
   "cell_type": "markdown",
   "metadata": {},
   "source": [
    "## Ride-sharing efficiency"
   ]
  },
  {
   "cell_type": "code",
   "execution_count": 7,
   "metadata": {},
   "outputs": [
    {
     "data": {
      "text/html": [
       "<div>\n",
       "<style scoped>\n",
       "    .dataframe tbody tr th:only-of-type {\n",
       "        vertical-align: middle;\n",
       "    }\n",
       "\n",
       "    .dataframe tbody tr th {\n",
       "        vertical-align: top;\n",
       "    }\n",
       "\n",
       "    .dataframe thead th {\n",
       "        text-align: right;\n",
       "    }\n",
       "</style>\n",
       "<table border=\"1\" class=\"dataframe\">\n",
       "  <thead>\n",
       "    <tr style=\"text-align: right;\">\n",
       "      <th></th>\n",
       "      <th>greedy</th>\n",
       "      <th>approx</th>\n",
       "      <th>approx_woc</th>\n",
       "      <th>size</th>\n",
       "      <th>approx_gain</th>\n",
       "      <th>approx_woc_gain</th>\n",
       "    </tr>\n",
       "  </thead>\n",
       "  <tbody>\n",
       "    <tr>\n",
       "      <th>0</th>\n",
       "      <td>14713.7</td>\n",
       "      <td>10948.4</td>\n",
       "      <td>11283.6</td>\n",
       "      <td>10</td>\n",
       "      <td>1.343913</td>\n",
       "      <td>1.303990</td>\n",
       "    </tr>\n",
       "    <tr>\n",
       "      <th>1</th>\n",
       "      <td>11511.2</td>\n",
       "      <td>9560.3</td>\n",
       "      <td>9785.3</td>\n",
       "      <td>20</td>\n",
       "      <td>1.204063</td>\n",
       "      <td>1.176377</td>\n",
       "    </tr>\n",
       "    <tr>\n",
       "      <th>2</th>\n",
       "      <td>9283.5</td>\n",
       "      <td>7905.6</td>\n",
       "      <td>8328.0</td>\n",
       "      <td>30</td>\n",
       "      <td>1.174294</td>\n",
       "      <td>1.114733</td>\n",
       "    </tr>\n",
       "    <tr>\n",
       "      <th>3</th>\n",
       "      <td>7818.8</td>\n",
       "      <td>7135.7</td>\n",
       "      <td>7153.5</td>\n",
       "      <td>40</td>\n",
       "      <td>1.095730</td>\n",
       "      <td>1.093003</td>\n",
       "    </tr>\n",
       "    <tr>\n",
       "      <th>4</th>\n",
       "      <td>6395.7</td>\n",
       "      <td>5941.3</td>\n",
       "      <td>5992.5</td>\n",
       "      <td>50</td>\n",
       "      <td>1.076482</td>\n",
       "      <td>1.067284</td>\n",
       "    </tr>\n",
       "    <tr>\n",
       "      <th>5</th>\n",
       "      <td>6257.8</td>\n",
       "      <td>5789.8</td>\n",
       "      <td>5938.2</td>\n",
       "      <td>60</td>\n",
       "      <td>1.080832</td>\n",
       "      <td>1.053821</td>\n",
       "    </tr>\n",
       "    <tr>\n",
       "      <th>6</th>\n",
       "      <td>5781.1</td>\n",
       "      <td>5542.9</td>\n",
       "      <td>5612.5</td>\n",
       "      <td>70</td>\n",
       "      <td>1.042974</td>\n",
       "      <td>1.030040</td>\n",
       "    </tr>\n",
       "    <tr>\n",
       "      <th>7</th>\n",
       "      <td>5167.1</td>\n",
       "      <td>4926.6</td>\n",
       "      <td>5041.3</td>\n",
       "      <td>80</td>\n",
       "      <td>1.048817</td>\n",
       "      <td>1.024954</td>\n",
       "    </tr>\n",
       "    <tr>\n",
       "      <th>8</th>\n",
       "      <td>5527.6</td>\n",
       "      <td>5160.5</td>\n",
       "      <td>5217.3</td>\n",
       "      <td>90</td>\n",
       "      <td>1.071137</td>\n",
       "      <td>1.059475</td>\n",
       "    </tr>\n",
       "    <tr>\n",
       "      <th>9</th>\n",
       "      <td>4864.1</td>\n",
       "      <td>4666.8</td>\n",
       "      <td>4726.2</td>\n",
       "      <td>100</td>\n",
       "      <td>1.042277</td>\n",
       "      <td>1.029178</td>\n",
       "    </tr>\n",
       "  </tbody>\n",
       "</table>\n",
       "</div>"
      ],
      "text/plain": [
       "    greedy   approx  approx_woc  size  approx_gain  approx_woc_gain\n",
       "0  14713.7  10948.4     11283.6    10     1.343913         1.303990\n",
       "1  11511.2   9560.3      9785.3    20     1.204063         1.176377\n",
       "2   9283.5   7905.6      8328.0    30     1.174294         1.114733\n",
       "3   7818.8   7135.7      7153.5    40     1.095730         1.093003\n",
       "4   6395.7   5941.3      5992.5    50     1.076482         1.067284\n",
       "5   6257.8   5789.8      5938.2    60     1.080832         1.053821\n",
       "6   5781.1   5542.9      5612.5    70     1.042974         1.030040\n",
       "7   5167.1   4926.6      5041.3    80     1.048817         1.024954\n",
       "8   5527.6   5160.5      5217.3    90     1.071137         1.059475\n",
       "9   4864.1   4666.8      4726.2   100     1.042277         1.029178"
      ]
     },
     "metadata": {},
     "output_type": "display_data"
    }
   ],
   "source": [
    "df_cost.loc[:, 'approx_gain'] = df_cost['greedy']/df_cost['approx']\n",
    "df_cost.loc[:, 'approx_woc_gain'] = df_cost['greedy']/df_cost['approx_woc']\n",
    "display(df_cost)"
   ]
  },
  {
   "cell_type": "code",
   "execution_count": 8,
   "metadata": {},
   "outputs": [
    {
     "data": {
      "text/plain": [
       "approx_gain        1.118052\n",
       "approx_woc_gain    1.095286\n",
       "dtype: float64"
      ]
     },
     "execution_count": 8,
     "metadata": {},
     "output_type": "execute_result"
    }
   ],
   "source": [
    "df_cost[['approx_gain', 'approx_woc_gain']].mean()"
   ]
  },
  {
   "cell_type": "code",
   "execution_count": 9,
   "metadata": {},
   "outputs": [
    {
     "data": {
      "text/plain": [
       "greedy        7732.06\n",
       "approx        6757.79\n",
       "approx_woc    6907.84\n",
       "dtype: float64"
      ]
     },
     "execution_count": 9,
     "metadata": {},
     "output_type": "execute_result"
    }
   ],
   "source": [
    "df_cost[['greedy', 'approx', 'approx_woc']].mean()"
   ]
  },
  {
   "cell_type": "markdown",
   "metadata": {},
   "source": [
    "# Plots"
   ]
  },
  {
   "cell_type": "markdown",
   "metadata": {},
   "source": [
    "## Processing time"
   ]
  },
  {
   "cell_type": "code",
   "execution_count": 10,
   "metadata": {},
   "outputs": [
    {
     "data": {
      "image/png": "[encoded data removed]",
      "text/plain": [
       "<Figure size 720x504 with 1 Axes>"
      ]
     },
     "metadata": {},
     "output_type": "display_data"
    }
   ],
   "source": [
    "plt.figure(figsize=(10, 7))\n",
    "plt.plot(sizes, df_time['approx'], label='approx')\n",
    "plt.plot(sizes, df_time['approx_woc'], label='approx_woc')\n",
    "# plt.yscale('log')\n",
    "plt.xlabel('Number of POIs', fontsize=14)\n",
    "plt.ylabel('Time [s]', fontsize=14)\n",
    "plt.title('Processing time')\n",
    "plt.legend()\n",
    "plt.savefig(os.path.join(fig_dir, f'{exp_name}_proc_time.png'))\n",
    "plt.show()"
   ]
  },
  {
   "cell_type": "markdown",
   "metadata": {},
   "source": [
    "## Travel cost"
   ]
  },
  {
   "cell_type": "code",
   "execution_count": 11,
   "metadata": {},
   "outputs": [
    {
     "data": {
      "image/png": "[encoded data removed]",
      "text/plain": [
       "<Figure size 720x504 with 1 Axes>"
      ]
     },
     "metadata": {},
     "output_type": "display_data"
    }
   ],
   "source": [
    "plt.figure(figsize=(10, 7))\n",
    "plt.plot(sizes, df_cost['greedy'], label='greedy')\n",
    "plt.plot(sizes, df_cost['approx'], label='approx')\n",
    "plt.plot(sizes, df_cost['approx_woc'], label='approx_woc')\n",
    "plt.xlabel('Number of POIs', fontsize=14)\n",
    "plt.ylabel('Travel cost [m]', fontsize=14)\n",
    "plt.title('Travel cost')\n",
    "plt.legend()\n",
    "plt.savefig(os.path.join(fig_dir, f'{exp_name}_travel_cost.png'))\n",
    "plt.show()"
   ]
  },
  {
   "cell_type": "markdown",
   "metadata": {},
   "source": [
    "## Ride-sharing efficiency"
   ]
  },
  {
   "cell_type": "code",
   "execution_count": 12,
   "metadata": {},
   "outputs": [
    {
     "data": {
      "image/png": "[encoded data removed]",
      "text/plain": [
       "<Figure size 720x504 with 1 Axes>"
      ]
     },
     "metadata": {},
     "output_type": "display_data"
    }
   ],
   "source": [
    "plt.figure(figsize=(10, 7))\n",
    "plt.plot(sizes, df_cost['approx_gain'], label='approx')\n",
    "plt.plot(sizes, df_cost['approx_woc_gain'], label='approx_woc')\n",
    "plt.xlabel('Number of POIs', fontsize=14)\n",
    "plt.ylabel('Ratio', fontsize=14)\n",
    "plt.title('Ride-sharing efficiency')\n",
    "plt.legend()\n",
    "plt.savefig(os.path.join(fig_dir, f'{exp_name}_rs_efficiency.png'))\n",
    "plt.show()"
   ]
  },
  {
   "cell_type": "code",
   "execution_count": null,
   "metadata": {},
   "outputs": [],
   "source": []
  }
 ],
 "metadata": {
  "kernelspec": {
   "display_name": "Python 3",
   "language": "python",
   "name": "python3"
  },
  "language_info": {
   "codemirror_mode": {
    "name": "ipython",
    "version": 3
   },
   "file_extension": ".py",
   "mimetype": "text/x-python",
   "name": "python",
   "nbconvert_exporter": "python",
   "pygments_lexer": "ipython3",
   "version": "3.6.10"
  }
 },
 "nbformat": 4,
 "nbformat_minor": 4
}
