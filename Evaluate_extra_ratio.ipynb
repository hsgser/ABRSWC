{
 "cells": [
  {
   "cell_type": "markdown",
   "metadata": {},
   "source": [
    "# Import libraries"
   ]
  },
  {
   "cell_type": "code",
   "execution_count": 1,
   "metadata": {},
   "outputs": [],
   "source": [
    "%load_ext autoreload\n",
    "%autoreload 2\n",
    "import numpy as np\n",
    "import pandas as pd\n",
    "import matplotlib.pyplot as plt\n",
    "import os\n",
    "from utils import *\n",
    "\n",
    "plt.style.use('ggplot')"
   ]
  },
  {
   "cell_type": "markdown",
   "metadata": {},
   "source": [
    "# Parameters"
   ]
  },
  {
   "cell_type": "code",
   "execution_count": 2,
   "metadata": {},
   "outputs": [],
   "source": [
    "fig_dir = 'data/figure'\n",
    "exp_name = 'compare_extra_ratio'\n",
    "time_path = 'data/time/compare_extra_ratio_2020_12_3_20_18_25.npy'\n",
    "cost_path = 'data/cost/compare_extra_ratio_2020_12_3_20_18_25.npy'\n",
    "methods = ['greedy', 'approx', 'approx_woc']\n",
    "sizes = np.linspace(1, 2, num=11)\n",
    "repeats = len(sizes)"
   ]
  },
  {
   "cell_type": "markdown",
   "metadata": {},
   "source": [
    "# Load data"
   ]
  },
  {
   "cell_type": "code",
   "execution_count": 3,
   "metadata": {},
   "outputs": [
    {
     "name": "stdout",
     "output_type": "stream",
     "text": [
      "(33,) (33,)\n",
      "Wall time: 8.86 ms\n"
     ]
    }
   ],
   "source": [
    "%%time\n",
    "run_time = np.load(time_path)\n",
    "travel_cost = np.load(cost_path)\n",
    "print(run_time.shape, travel_cost.shape)"
   ]
  },
  {
   "cell_type": "markdown",
   "metadata": {},
   "source": [
    "# Convert to DataFrame"
   ]
  },
  {
   "cell_type": "code",
   "execution_count": 4,
   "metadata": {},
   "outputs": [
    {
     "name": "stdout",
     "output_type": "stream",
     "text": [
      "(11, 4)\n",
      "<class 'pandas.core.frame.DataFrame'>\n",
      "RangeIndex: 11 entries, 0 to 10\n",
      "Data columns (total 4 columns):\n",
      " #   Column      Non-Null Count  Dtype  \n",
      "---  ------      --------------  -----  \n",
      " 0   greedy      11 non-null     float64\n",
      " 1   approx      11 non-null     float64\n",
      " 2   approx_woc  11 non-null     float64\n",
      " 3   size        11 non-null     float64\n",
      "dtypes: float64(4)\n",
      "memory usage: 480.0 bytes\n",
      "None\n"
     ]
    },
    {
     "data": {
      "text/html": [
       "<div>\n",
       "<style scoped>\n",
       "    .dataframe tbody tr th:only-of-type {\n",
       "        vertical-align: middle;\n",
       "    }\n",
       "\n",
       "    .dataframe tbody tr th {\n",
       "        vertical-align: top;\n",
       "    }\n",
       "\n",
       "    .dataframe thead th {\n",
       "        text-align: right;\n",
       "    }\n",
       "</style>\n",
       "<table border=\"1\" class=\"dataframe\">\n",
       "  <thead>\n",
       "    <tr style=\"text-align: right;\">\n",
       "      <th></th>\n",
       "      <th>greedy</th>\n",
       "      <th>approx</th>\n",
       "      <th>approx_woc</th>\n",
       "      <th>size</th>\n",
       "    </tr>\n",
       "  </thead>\n",
       "  <tbody>\n",
       "    <tr>\n",
       "      <th>0</th>\n",
       "      <td>0.0000</td>\n",
       "      <td>0.530954</td>\n",
       "      <td>0.090159</td>\n",
       "      <td>1.0</td>\n",
       "    </tr>\n",
       "    <tr>\n",
       "      <th>1</th>\n",
       "      <td>0.0000</td>\n",
       "      <td>0.563086</td>\n",
       "      <td>0.101026</td>\n",
       "      <td>1.1</td>\n",
       "    </tr>\n",
       "    <tr>\n",
       "      <th>2</th>\n",
       "      <td>0.0000</td>\n",
       "      <td>0.582554</td>\n",
       "      <td>0.103923</td>\n",
       "      <td>1.2</td>\n",
       "    </tr>\n",
       "    <tr>\n",
       "      <th>3</th>\n",
       "      <td>0.0000</td>\n",
       "      <td>0.570471</td>\n",
       "      <td>0.100333</td>\n",
       "      <td>1.3</td>\n",
       "    </tr>\n",
       "    <tr>\n",
       "      <th>4</th>\n",
       "      <td>0.0000</td>\n",
       "      <td>0.567083</td>\n",
       "      <td>0.111507</td>\n",
       "      <td>1.4</td>\n",
       "    </tr>\n",
       "    <tr>\n",
       "      <th>5</th>\n",
       "      <td>0.0000</td>\n",
       "      <td>0.631404</td>\n",
       "      <td>0.114195</td>\n",
       "      <td>1.5</td>\n",
       "    </tr>\n",
       "    <tr>\n",
       "      <th>6</th>\n",
       "      <td>0.0000</td>\n",
       "      <td>0.580648</td>\n",
       "      <td>0.117787</td>\n",
       "      <td>1.6</td>\n",
       "    </tr>\n",
       "    <tr>\n",
       "      <th>7</th>\n",
       "      <td>0.0001</td>\n",
       "      <td>0.636793</td>\n",
       "      <td>0.134242</td>\n",
       "      <td>1.7</td>\n",
       "    </tr>\n",
       "    <tr>\n",
       "      <th>8</th>\n",
       "      <td>0.0000</td>\n",
       "      <td>0.582246</td>\n",
       "      <td>0.112400</td>\n",
       "      <td>1.8</td>\n",
       "    </tr>\n",
       "    <tr>\n",
       "      <th>9</th>\n",
       "      <td>0.0001</td>\n",
       "      <td>0.596009</td>\n",
       "      <td>0.115790</td>\n",
       "      <td>1.9</td>\n",
       "    </tr>\n",
       "    <tr>\n",
       "      <th>10</th>\n",
       "      <td>0.0000</td>\n",
       "      <td>0.591316</td>\n",
       "      <td>0.113896</td>\n",
       "      <td>2.0</td>\n",
       "    </tr>\n",
       "  </tbody>\n",
       "</table>\n",
       "</div>"
      ],
      "text/plain": [
       "    greedy    approx  approx_woc  size\n",
       "0   0.0000  0.530954    0.090159   1.0\n",
       "1   0.0000  0.563086    0.101026   1.1\n",
       "2   0.0000  0.582554    0.103923   1.2\n",
       "3   0.0000  0.570471    0.100333   1.3\n",
       "4   0.0000  0.567083    0.111507   1.4\n",
       "5   0.0000  0.631404    0.114195   1.5\n",
       "6   0.0000  0.580648    0.117787   1.6\n",
       "7   0.0001  0.636793    0.134242   1.7\n",
       "8   0.0000  0.582246    0.112400   1.8\n",
       "9   0.0001  0.596009    0.115790   1.9\n",
       "10  0.0000  0.591316    0.113896   2.0"
      ]
     },
     "metadata": {},
     "output_type": "display_data"
    }
   ],
   "source": [
    "df_time = pd.DataFrame(run_time.reshape(repeats,-1)/np.power(10,6), columns=methods)\n",
    "df_time.loc[:, 'size'] = sizes\n",
    "print(df_time.shape)\n",
    "print(df_time.info())\n",
    "display(df_time)"
   ]
  },
  {
   "cell_type": "code",
   "execution_count": 5,
   "metadata": {},
   "outputs": [
    {
     "name": "stdout",
     "output_type": "stream",
     "text": [
      "(11, 4)\n",
      "<class 'pandas.core.frame.DataFrame'>\n",
      "RangeIndex: 11 entries, 0 to 10\n",
      "Data columns (total 4 columns):\n",
      " #   Column      Non-Null Count  Dtype  \n",
      "---  ------      --------------  -----  \n",
      " 0   greedy      11 non-null     float64\n",
      " 1   approx      11 non-null     float64\n",
      " 2   approx_woc  11 non-null     float64\n",
      " 3   size        11 non-null     float64\n",
      "dtypes: float64(4)\n",
      "memory usage: 480.0 bytes\n",
      "None\n"
     ]
    },
    {
     "data": {
      "text/html": [
       "<div>\n",
       "<style scoped>\n",
       "    .dataframe tbody tr th:only-of-type {\n",
       "        vertical-align: middle;\n",
       "    }\n",
       "\n",
       "    .dataframe tbody tr th {\n",
       "        vertical-align: top;\n",
       "    }\n",
       "\n",
       "    .dataframe thead th {\n",
       "        text-align: right;\n",
       "    }\n",
       "</style>\n",
       "<table border=\"1\" class=\"dataframe\">\n",
       "  <thead>\n",
       "    <tr style=\"text-align: right;\">\n",
       "      <th></th>\n",
       "      <th>greedy</th>\n",
       "      <th>approx</th>\n",
       "      <th>approx_woc</th>\n",
       "      <th>size</th>\n",
       "    </tr>\n",
       "  </thead>\n",
       "  <tbody>\n",
       "    <tr>\n",
       "      <th>0</th>\n",
       "      <td>10993.1</td>\n",
       "      <td>9288.5</td>\n",
       "      <td>9365.1</td>\n",
       "      <td>1.0</td>\n",
       "    </tr>\n",
       "    <tr>\n",
       "      <th>1</th>\n",
       "      <td>10993.1</td>\n",
       "      <td>9277.3</td>\n",
       "      <td>9367.7</td>\n",
       "      <td>1.1</td>\n",
       "    </tr>\n",
       "    <tr>\n",
       "      <th>2</th>\n",
       "      <td>10993.1</td>\n",
       "      <td>9277.8</td>\n",
       "      <td>9367.7</td>\n",
       "      <td>1.2</td>\n",
       "    </tr>\n",
       "    <tr>\n",
       "      <th>3</th>\n",
       "      <td>10993.1</td>\n",
       "      <td>9275.6</td>\n",
       "      <td>9367.7</td>\n",
       "      <td>1.3</td>\n",
       "    </tr>\n",
       "    <tr>\n",
       "      <th>4</th>\n",
       "      <td>10993.1</td>\n",
       "      <td>9302.9</td>\n",
       "      <td>9387.8</td>\n",
       "      <td>1.4</td>\n",
       "    </tr>\n",
       "    <tr>\n",
       "      <th>5</th>\n",
       "      <td>10993.1</td>\n",
       "      <td>9314.3</td>\n",
       "      <td>9401.2</td>\n",
       "      <td>1.5</td>\n",
       "    </tr>\n",
       "    <tr>\n",
       "      <th>6</th>\n",
       "      <td>10993.1</td>\n",
       "      <td>9314.3</td>\n",
       "      <td>9401.6</td>\n",
       "      <td>1.6</td>\n",
       "    </tr>\n",
       "    <tr>\n",
       "      <th>7</th>\n",
       "      <td>10993.1</td>\n",
       "      <td>9311.7</td>\n",
       "      <td>9413.8</td>\n",
       "      <td>1.7</td>\n",
       "    </tr>\n",
       "    <tr>\n",
       "      <th>8</th>\n",
       "      <td>10993.1</td>\n",
       "      <td>9323.1</td>\n",
       "      <td>9418.6</td>\n",
       "      <td>1.8</td>\n",
       "    </tr>\n",
       "    <tr>\n",
       "      <th>9</th>\n",
       "      <td>10993.1</td>\n",
       "      <td>9324.5</td>\n",
       "      <td>9418.6</td>\n",
       "      <td>1.9</td>\n",
       "    </tr>\n",
       "    <tr>\n",
       "      <th>10</th>\n",
       "      <td>10993.1</td>\n",
       "      <td>9328.9</td>\n",
       "      <td>9418.6</td>\n",
       "      <td>2.0</td>\n",
       "    </tr>\n",
       "  </tbody>\n",
       "</table>\n",
       "</div>"
      ],
      "text/plain": [
       "     greedy  approx  approx_woc  size\n",
       "0   10993.1  9288.5      9365.1   1.0\n",
       "1   10993.1  9277.3      9367.7   1.1\n",
       "2   10993.1  9277.8      9367.7   1.2\n",
       "3   10993.1  9275.6      9367.7   1.3\n",
       "4   10993.1  9302.9      9387.8   1.4\n",
       "5   10993.1  9314.3      9401.2   1.5\n",
       "6   10993.1  9314.3      9401.6   1.6\n",
       "7   10993.1  9311.7      9413.8   1.7\n",
       "8   10993.1  9323.1      9418.6   1.8\n",
       "9   10993.1  9324.5      9418.6   1.9\n",
       "10  10993.1  9328.9      9418.6   2.0"
      ]
     },
     "metadata": {},
     "output_type": "display_data"
    }
   ],
   "source": [
    "df_cost =  pd.DataFrame(travel_cost.reshape(repeats,-1), columns=methods)\n",
    "df_cost.loc[:, 'size'] = sizes\n",
    "print(df_cost.shape)\n",
    "print(df_cost.info())\n",
    "display(df_cost)"
   ]
  },
  {
   "cell_type": "markdown",
   "metadata": {},
   "source": [
    "# Calculate metrics "
   ]
  },
  {
   "cell_type": "markdown",
   "metadata": {},
   "source": [
    "## Processing time"
   ]
  },
  {
   "cell_type": "code",
   "execution_count": 6,
   "metadata": {},
   "outputs": [
    {
     "data": {
      "text/plain": [
       "greedy        0.000018\n",
       "approx        0.584778\n",
       "approx_woc    0.110478\n",
       "size          1.500000\n",
       "dtype: float64"
      ]
     },
     "execution_count": 6,
     "metadata": {},
     "output_type": "execute_result"
    }
   ],
   "source": [
    "df_time.mean()"
   ]
  },
  {
   "cell_type": "markdown",
   "metadata": {},
   "source": [
    "## Ride-sharing efficiency"
   ]
  },
  {
   "cell_type": "code",
   "execution_count": 7,
   "metadata": {},
   "outputs": [
    {
     "data": {
      "text/html": [
       "<div>\n",
       "<style scoped>\n",
       "    .dataframe tbody tr th:only-of-type {\n",
       "        vertical-align: middle;\n",
       "    }\n",
       "\n",
       "    .dataframe tbody tr th {\n",
       "        vertical-align: top;\n",
       "    }\n",
       "\n",
       "    .dataframe thead th {\n",
       "        text-align: right;\n",
       "    }\n",
       "</style>\n",
       "<table border=\"1\" class=\"dataframe\">\n",
       "  <thead>\n",
       "    <tr style=\"text-align: right;\">\n",
       "      <th></th>\n",
       "      <th>greedy</th>\n",
       "      <th>approx</th>\n",
       "      <th>approx_woc</th>\n",
       "      <th>size</th>\n",
       "      <th>approx_gain</th>\n",
       "      <th>approx_woc_gain</th>\n",
       "    </tr>\n",
       "  </thead>\n",
       "  <tbody>\n",
       "    <tr>\n",
       "      <th>0</th>\n",
       "      <td>10993.1</td>\n",
       "      <td>9288.5</td>\n",
       "      <td>9365.1</td>\n",
       "      <td>1.0</td>\n",
       "      <td>1.183517</td>\n",
       "      <td>1.173837</td>\n",
       "    </tr>\n",
       "    <tr>\n",
       "      <th>1</th>\n",
       "      <td>10993.1</td>\n",
       "      <td>9277.3</td>\n",
       "      <td>9367.7</td>\n",
       "      <td>1.1</td>\n",
       "      <td>1.184946</td>\n",
       "      <td>1.173511</td>\n",
       "    </tr>\n",
       "    <tr>\n",
       "      <th>2</th>\n",
       "      <td>10993.1</td>\n",
       "      <td>9277.8</td>\n",
       "      <td>9367.7</td>\n",
       "      <td>1.2</td>\n",
       "      <td>1.184882</td>\n",
       "      <td>1.173511</td>\n",
       "    </tr>\n",
       "    <tr>\n",
       "      <th>3</th>\n",
       "      <td>10993.1</td>\n",
       "      <td>9275.6</td>\n",
       "      <td>9367.7</td>\n",
       "      <td>1.3</td>\n",
       "      <td>1.185163</td>\n",
       "      <td>1.173511</td>\n",
       "    </tr>\n",
       "    <tr>\n",
       "      <th>4</th>\n",
       "      <td>10993.1</td>\n",
       "      <td>9302.9</td>\n",
       "      <td>9387.8</td>\n",
       "      <td>1.4</td>\n",
       "      <td>1.181685</td>\n",
       "      <td>1.170999</td>\n",
       "    </tr>\n",
       "    <tr>\n",
       "      <th>5</th>\n",
       "      <td>10993.1</td>\n",
       "      <td>9314.3</td>\n",
       "      <td>9401.2</td>\n",
       "      <td>1.5</td>\n",
       "      <td>1.180239</td>\n",
       "      <td>1.169329</td>\n",
       "    </tr>\n",
       "    <tr>\n",
       "      <th>6</th>\n",
       "      <td>10993.1</td>\n",
       "      <td>9314.3</td>\n",
       "      <td>9401.6</td>\n",
       "      <td>1.6</td>\n",
       "      <td>1.180239</td>\n",
       "      <td>1.169280</td>\n",
       "    </tr>\n",
       "    <tr>\n",
       "      <th>7</th>\n",
       "      <td>10993.1</td>\n",
       "      <td>9311.7</td>\n",
       "      <td>9413.8</td>\n",
       "      <td>1.7</td>\n",
       "      <td>1.180569</td>\n",
       "      <td>1.167764</td>\n",
       "    </tr>\n",
       "    <tr>\n",
       "      <th>8</th>\n",
       "      <td>10993.1</td>\n",
       "      <td>9323.1</td>\n",
       "      <td>9418.6</td>\n",
       "      <td>1.8</td>\n",
       "      <td>1.179125</td>\n",
       "      <td>1.167169</td>\n",
       "    </tr>\n",
       "    <tr>\n",
       "      <th>9</th>\n",
       "      <td>10993.1</td>\n",
       "      <td>9324.5</td>\n",
       "      <td>9418.6</td>\n",
       "      <td>1.9</td>\n",
       "      <td>1.178948</td>\n",
       "      <td>1.167169</td>\n",
       "    </tr>\n",
       "    <tr>\n",
       "      <th>10</th>\n",
       "      <td>10993.1</td>\n",
       "      <td>9328.9</td>\n",
       "      <td>9418.6</td>\n",
       "      <td>2.0</td>\n",
       "      <td>1.178392</td>\n",
       "      <td>1.167169</td>\n",
       "    </tr>\n",
       "  </tbody>\n",
       "</table>\n",
       "</div>"
      ],
      "text/plain": [
       "     greedy  approx  approx_woc  size  approx_gain  approx_woc_gain\n",
       "0   10993.1  9288.5      9365.1   1.0     1.183517         1.173837\n",
       "1   10993.1  9277.3      9367.7   1.1     1.184946         1.173511\n",
       "2   10993.1  9277.8      9367.7   1.2     1.184882         1.173511\n",
       "3   10993.1  9275.6      9367.7   1.3     1.185163         1.173511\n",
       "4   10993.1  9302.9      9387.8   1.4     1.181685         1.170999\n",
       "5   10993.1  9314.3      9401.2   1.5     1.180239         1.169329\n",
       "6   10993.1  9314.3      9401.6   1.6     1.180239         1.169280\n",
       "7   10993.1  9311.7      9413.8   1.7     1.180569         1.167764\n",
       "8   10993.1  9323.1      9418.6   1.8     1.179125         1.167169\n",
       "9   10993.1  9324.5      9418.6   1.9     1.178948         1.167169\n",
       "10  10993.1  9328.9      9418.6   2.0     1.178392         1.167169"
      ]
     },
     "metadata": {},
     "output_type": "display_data"
    }
   ],
   "source": [
    "df_cost.loc[:, 'approx_gain'] = df_cost['greedy']/df_cost['approx']\n",
    "df_cost.loc[:, 'approx_woc_gain'] = df_cost['greedy']/df_cost['approx_woc']\n",
    "display(df_cost)"
   ]
  },
  {
   "cell_type": "code",
   "execution_count": 8,
   "metadata": {},
   "outputs": [
    {
     "data": {
      "text/plain": [
       "approx_gain        1.181610\n",
       "approx_woc_gain    1.170295\n",
       "dtype: float64"
      ]
     },
     "execution_count": 8,
     "metadata": {},
     "output_type": "execute_result"
    }
   ],
   "source": [
    "df_cost[['approx_gain', 'approx_woc_gain']].mean()"
   ]
  },
  {
   "cell_type": "code",
   "execution_count": 9,
   "metadata": {},
   "outputs": [
    {
     "data": {
      "text/plain": [
       "greedy        10993.100000\n",
       "approx         9303.536364\n",
       "approx_woc     9393.490909\n",
       "dtype: float64"
      ]
     },
     "execution_count": 9,
     "metadata": {},
     "output_type": "execute_result"
    }
   ],
   "source": [
    "df_cost[['greedy', 'approx', 'approx_woc']].mean()"
   ]
  },
  {
   "cell_type": "markdown",
   "metadata": {},
   "source": [
    "# Plots"
   ]
  },
  {
   "cell_type": "markdown",
   "metadata": {},
   "source": [
    "## Processing time"
   ]
  },
  {
   "cell_type": "code",
   "execution_count": 10,
   "metadata": {},
   "outputs": [
    {
     "data": {
      "image/png": "[encoded data removed]",
      "text/plain": [
       "<Figure size 720x504 with 1 Axes>"
      ]
     },
     "metadata": {},
     "output_type": "display_data"
    }
   ],
   "source": [
    "plt.figure(figsize=(10, 7))\n",
    "plt.plot(sizes, df_time['approx'], label='approx')\n",
    "plt.plot(sizes, df_time['approx_woc'], label='approx_woc')\n",
    "# plt.yscale('log')\n",
    "plt.xlabel('Extra ratio', fontsize=14)\n",
    "plt.ylabel('Time [s]', fontsize=14)\n",
    "plt.title('Processing time')\n",
    "plt.legend()\n",
    "plt.savefig(os.path.join(fig_dir, f'{exp_name}_proc_time.png'))\n",
    "plt.show()"
   ]
  },
  {
   "cell_type": "markdown",
   "metadata": {},
   "source": [
    "## Travel cost"
   ]
  },
  {
   "cell_type": "code",
   "execution_count": 11,
   "metadata": {},
   "outputs": [
    {
     "data": {
      "image/png": "[encoded data removed]",
      "text/plain": [
       "<Figure size 720x504 with 1 Axes>"
      ]
     },
     "metadata": {},
     "output_type": "display_data"
    }
   ],
   "source": [
    "plt.figure(figsize=(10, 7))\n",
    "plt.plot(sizes, df_cost['greedy'], label='greedy')\n",
    "plt.plot(sizes, df_cost['approx'], label='approx')\n",
    "plt.plot(sizes, df_cost['approx_woc'], label='approx_woc')\n",
    "plt.xlabel('Extra ratio', fontsize=14)\n",
    "plt.ylabel('Travel cost [m]', fontsize=14)\n",
    "plt.title('Travel cost')\n",
    "plt.legend()\n",
    "plt.savefig(os.path.join(fig_dir, f'{exp_name}_travel_cost.png'))\n",
    "plt.show()"
   ]
  },
  {
   "cell_type": "markdown",
   "metadata": {},
   "source": [
    "## Ride-sharing efficiency"
   ]
  },
  {
   "cell_type": "code",
   "execution_count": 12,
   "metadata": {},
   "outputs": [
    {
     "data": {
      "image/png": "[encoded data removed]",
      "text/plain": [
       "<Figure size 720x504 with 1 Axes>"
      ]
     },
     "metadata": {},
     "output_type": "display_data"
    }
   ],
   "source": [
    "plt.figure(figsize=(10, 7))\n",
    "plt.plot(sizes, df_cost['approx_gain'], label='approx')\n",
    "plt.plot(sizes, df_cost['approx_woc_gain'], label='approx_woc')\n",
    "plt.xlabel('Extra ratio', fontsize=14)\n",
    "plt.ylabel('Ratio', fontsize=14)\n",
    "plt.title('Ride-sharing efficiency')\n",
    "plt.legend()\n",
    "plt.savefig(os.path.join(fig_dir, f'{exp_name}_rs_efficiency.png'))\n",
    "plt.show()"
   ]
  },
  {
   "cell_type": "code",
   "execution_count": null,
   "metadata": {},
   "outputs": [],
   "source": []
  }
 ],
 "metadata": {
  "kernelspec": {
   "display_name": "Python 3",
   "language": "python",
   "name": "python3"
  },
  "language_info": {
   "codemirror_mode": {
    "name": "ipython",
    "version": 3
   },
   "file_extension": ".py",
   "mimetype": "text/x-python",
   "name": "python",
   "nbconvert_exporter": "python",
   "pygments_lexer": "ipython3",
   "version": "3.6.10"
  }
 },
 "nbformat": 4,
 "nbformat_minor": 4
}
