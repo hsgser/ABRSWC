{
 "cells": [
  {
   "cell_type": "markdown",
   "metadata": {},
   "source": [
    "# Import libraries"
   ]
  },
  {
   "cell_type": "code",
   "execution_count": 16,
   "metadata": {},
   "outputs": [
    {
     "name": "stdout",
     "output_type": "stream",
     "text": [
      "The autoreload extension is already loaded. To reload it, use:\n",
      "  %reload_ext autoreload\n"
     ]
    }
   ],
   "source": [
    "%load_ext autoreload\n",
    "%autoreload 2\n",
    "import numpy as np\n",
    "import pandas as pd\n",
    "import matplotlib.pyplot as plt\n",
    "import os\n",
    "from utils import *"
   ]
  },
  {
   "cell_type": "markdown",
   "metadata": {},
   "source": [
    "# Parameters"
   ]
  },
  {
   "cell_type": "code",
   "execution_count": 17,
   "metadata": {},
   "outputs": [],
   "source": [
    "fig_dir = 'data/figure'\n",
    "exp_name = 'compare_extra_ratio'\n",
    "time_path = 'data/time/compare_extra_ratio_2020_12_13_23_26_56.npy'\n",
    "cost_path = 'data/cost/compare_extra_ratio_2020_12_13_23_26_56.npy'\n",
    "methods = ['greedy', 'approx', 'approx_woc']\n",
    "sizes = np.linspace(0, 1, num=11)\n",
    "repeats = len(sizes)"
   ]
  },
  {
   "cell_type": "markdown",
   "metadata": {},
   "source": [
    "# Load data"
   ]
  },
  {
   "cell_type": "code",
   "execution_count": 18,
   "metadata": {},
   "outputs": [
    {
     "name": "stdout",
     "output_type": "stream",
     "text": [
      "(33,) (33,)\n",
      "Wall time: 9.97 ms\n"
     ]
    }
   ],
   "source": [
    "%%time\n",
    "run_time = np.load(time_path)\n",
    "travel_cost = np.load(cost_path)\n",
    "print(run_time.shape, travel_cost.shape)"
   ]
  },
  {
   "cell_type": "markdown",
   "metadata": {},
   "source": [
    "# Convert to DataFrame"
   ]
  },
  {
   "cell_type": "code",
   "execution_count": 19,
   "metadata": {},
   "outputs": [
    {
     "name": "stdout",
     "output_type": "stream",
     "text": [
      "(11, 4)\n",
      "<class 'pandas.core.frame.DataFrame'>\n",
      "RangeIndex: 11 entries, 0 to 10\n",
      "Data columns (total 4 columns):\n",
      " #   Column      Non-Null Count  Dtype  \n",
      "---  ------      --------------  -----  \n",
      " 0   greedy      11 non-null     float64\n",
      " 1   approx      11 non-null     float64\n",
      " 2   approx_woc  11 non-null     float64\n",
      " 3   size        11 non-null     float64\n",
      "dtypes: float64(4)\n",
      "memory usage: 480.0 bytes\n",
      "None\n"
     ]
    },
    {
     "data": {
      "text/html": [
       "<div>\n",
       "<style scoped>\n",
       "    .dataframe tbody tr th:only-of-type {\n",
       "        vertical-align: middle;\n",
       "    }\n",
       "\n",
       "    .dataframe tbody tr th {\n",
       "        vertical-align: top;\n",
       "    }\n",
       "\n",
       "    .dataframe thead th {\n",
       "        text-align: right;\n",
       "    }\n",
       "</style>\n",
       "<table border=\"1\" class=\"dataframe\">\n",
       "  <thead>\n",
       "    <tr style=\"text-align: right;\">\n",
       "      <th></th>\n",
       "      <th>greedy</th>\n",
       "      <th>approx</th>\n",
       "      <th>approx_woc</th>\n",
       "      <th>size</th>\n",
       "    </tr>\n",
       "  </thead>\n",
       "  <tbody>\n",
       "    <tr>\n",
       "      <th>0</th>\n",
       "      <td>0.000000</td>\n",
       "      <td>0.549235</td>\n",
       "      <td>0.029045</td>\n",
       "      <td>0.0</td>\n",
       "    </tr>\n",
       "    <tr>\n",
       "      <th>1</th>\n",
       "      <td>0.000000</td>\n",
       "      <td>0.594008</td>\n",
       "      <td>0.031177</td>\n",
       "      <td>0.1</td>\n",
       "    </tr>\n",
       "    <tr>\n",
       "      <th>2</th>\n",
       "      <td>0.000100</td>\n",
       "      <td>0.595027</td>\n",
       "      <td>0.037295</td>\n",
       "      <td>0.2</td>\n",
       "    </tr>\n",
       "    <tr>\n",
       "      <th>3</th>\n",
       "      <td>0.000100</td>\n",
       "      <td>0.632041</td>\n",
       "      <td>0.045141</td>\n",
       "      <td>0.3</td>\n",
       "    </tr>\n",
       "    <tr>\n",
       "      <th>4</th>\n",
       "      <td>0.000000</td>\n",
       "      <td>0.662035</td>\n",
       "      <td>0.055452</td>\n",
       "      <td>0.4</td>\n",
       "    </tr>\n",
       "    <tr>\n",
       "      <th>5</th>\n",
       "      <td>0.000104</td>\n",
       "      <td>0.642279</td>\n",
       "      <td>0.067574</td>\n",
       "      <td>0.5</td>\n",
       "    </tr>\n",
       "    <tr>\n",
       "      <th>6</th>\n",
       "      <td>0.000099</td>\n",
       "      <td>0.667491</td>\n",
       "      <td>0.076005</td>\n",
       "      <td>0.6</td>\n",
       "    </tr>\n",
       "    <tr>\n",
       "      <th>7</th>\n",
       "      <td>0.000000</td>\n",
       "      <td>0.679244</td>\n",
       "      <td>0.081321</td>\n",
       "      <td>0.7</td>\n",
       "    </tr>\n",
       "    <tr>\n",
       "      <th>8</th>\n",
       "      <td>0.000000</td>\n",
       "      <td>0.712358</td>\n",
       "      <td>0.086783</td>\n",
       "      <td>0.8</td>\n",
       "    </tr>\n",
       "    <tr>\n",
       "      <th>9</th>\n",
       "      <td>0.000000</td>\n",
       "      <td>0.672469</td>\n",
       "      <td>0.089219</td>\n",
       "      <td>0.9</td>\n",
       "    </tr>\n",
       "    <tr>\n",
       "      <th>10</th>\n",
       "      <td>0.000000</td>\n",
       "      <td>0.708586</td>\n",
       "      <td>0.086908</td>\n",
       "      <td>1.0</td>\n",
       "    </tr>\n",
       "  </tbody>\n",
       "</table>\n",
       "</div>"
      ],
      "text/plain": [
       "      greedy    approx  approx_woc  size\n",
       "0   0.000000  0.549235    0.029045   0.0\n",
       "1   0.000000  0.594008    0.031177   0.1\n",
       "2   0.000100  0.595027    0.037295   0.2\n",
       "3   0.000100  0.632041    0.045141   0.3\n",
       "4   0.000000  0.662035    0.055452   0.4\n",
       "5   0.000104  0.642279    0.067574   0.5\n",
       "6   0.000099  0.667491    0.076005   0.6\n",
       "7   0.000000  0.679244    0.081321   0.7\n",
       "8   0.000000  0.712358    0.086783   0.8\n",
       "9   0.000000  0.672469    0.089219   0.9\n",
       "10  0.000000  0.708586    0.086908   1.0"
      ]
     },
     "metadata": {},
     "output_type": "display_data"
    }
   ],
   "source": [
    "df_time = pd.DataFrame(run_time.reshape(repeats,-1)/np.power(10,6), columns=methods)\n",
    "df_time.loc[:, 'size'] = sizes\n",
    "print(df_time.shape)\n",
    "print(df_time.info())\n",
    "display(df_time)"
   ]
  },
  {
   "cell_type": "code",
   "execution_count": 20,
   "metadata": {},
   "outputs": [
    {
     "name": "stdout",
     "output_type": "stream",
     "text": [
      "(11, 4)\n",
      "<class 'pandas.core.frame.DataFrame'>\n",
      "RangeIndex: 11 entries, 0 to 10\n",
      "Data columns (total 4 columns):\n",
      " #   Column      Non-Null Count  Dtype  \n",
      "---  ------      --------------  -----  \n",
      " 0   greedy      11 non-null     float64\n",
      " 1   approx      11 non-null     float64\n",
      " 2   approx_woc  11 non-null     float64\n",
      " 3   size        11 non-null     float64\n",
      "dtypes: float64(4)\n",
      "memory usage: 480.0 bytes\n",
      "None\n"
     ]
    },
    {
     "data": {
      "text/html": [
       "<div>\n",
       "<style scoped>\n",
       "    .dataframe tbody tr th:only-of-type {\n",
       "        vertical-align: middle;\n",
       "    }\n",
       "\n",
       "    .dataframe tbody tr th {\n",
       "        vertical-align: top;\n",
       "    }\n",
       "\n",
       "    .dataframe thead th {\n",
       "        text-align: right;\n",
       "    }\n",
       "</style>\n",
       "<table border=\"1\" class=\"dataframe\">\n",
       "  <thead>\n",
       "    <tr style=\"text-align: right;\">\n",
       "      <th></th>\n",
       "      <th>greedy</th>\n",
       "      <th>approx</th>\n",
       "      <th>approx_woc</th>\n",
       "      <th>size</th>\n",
       "    </tr>\n",
       "  </thead>\n",
       "  <tbody>\n",
       "    <tr>\n",
       "      <th>0</th>\n",
       "      <td>11158.3</td>\n",
       "      <td>9909.5</td>\n",
       "      <td>9819.9</td>\n",
       "      <td>0.0</td>\n",
       "    </tr>\n",
       "    <tr>\n",
       "      <th>1</th>\n",
       "      <td>11158.3</td>\n",
       "      <td>9364.5</td>\n",
       "      <td>9495.9</td>\n",
       "      <td>0.1</td>\n",
       "    </tr>\n",
       "    <tr>\n",
       "      <th>2</th>\n",
       "      <td>11158.3</td>\n",
       "      <td>9119.1</td>\n",
       "      <td>9389.5</td>\n",
       "      <td>0.2</td>\n",
       "    </tr>\n",
       "    <tr>\n",
       "      <th>3</th>\n",
       "      <td>11158.3</td>\n",
       "      <td>8996.9</td>\n",
       "      <td>9367.9</td>\n",
       "      <td>0.3</td>\n",
       "    </tr>\n",
       "    <tr>\n",
       "      <th>4</th>\n",
       "      <td>11158.3</td>\n",
       "      <td>8959.2</td>\n",
       "      <td>9367.9</td>\n",
       "      <td>0.4</td>\n",
       "    </tr>\n",
       "    <tr>\n",
       "      <th>5</th>\n",
       "      <td>11158.3</td>\n",
       "      <td>8931.2</td>\n",
       "      <td>9340.2</td>\n",
       "      <td>0.5</td>\n",
       "    </tr>\n",
       "    <tr>\n",
       "      <th>6</th>\n",
       "      <td>11158.3</td>\n",
       "      <td>8902.6</td>\n",
       "      <td>9339.0</td>\n",
       "      <td>0.6</td>\n",
       "    </tr>\n",
       "    <tr>\n",
       "      <th>7</th>\n",
       "      <td>11158.3</td>\n",
       "      <td>8846.0</td>\n",
       "      <td>9336.5</td>\n",
       "      <td>0.7</td>\n",
       "    </tr>\n",
       "    <tr>\n",
       "      <th>8</th>\n",
       "      <td>11158.3</td>\n",
       "      <td>8846.0</td>\n",
       "      <td>9336.5</td>\n",
       "      <td>0.8</td>\n",
       "    </tr>\n",
       "    <tr>\n",
       "      <th>9</th>\n",
       "      <td>11158.3</td>\n",
       "      <td>8846.0</td>\n",
       "      <td>9336.5</td>\n",
       "      <td>0.9</td>\n",
       "    </tr>\n",
       "    <tr>\n",
       "      <th>10</th>\n",
       "      <td>11158.3</td>\n",
       "      <td>8846.0</td>\n",
       "      <td>9336.5</td>\n",
       "      <td>1.0</td>\n",
       "    </tr>\n",
       "  </tbody>\n",
       "</table>\n",
       "</div>"
      ],
      "text/plain": [
       "     greedy  approx  approx_woc  size\n",
       "0   11158.3  9909.5      9819.9   0.0\n",
       "1   11158.3  9364.5      9495.9   0.1\n",
       "2   11158.3  9119.1      9389.5   0.2\n",
       "3   11158.3  8996.9      9367.9   0.3\n",
       "4   11158.3  8959.2      9367.9   0.4\n",
       "5   11158.3  8931.2      9340.2   0.5\n",
       "6   11158.3  8902.6      9339.0   0.6\n",
       "7   11158.3  8846.0      9336.5   0.7\n",
       "8   11158.3  8846.0      9336.5   0.8\n",
       "9   11158.3  8846.0      9336.5   0.9\n",
       "10  11158.3  8846.0      9336.5   1.0"
      ]
     },
     "metadata": {},
     "output_type": "display_data"
    }
   ],
   "source": [
    "df_cost =  pd.DataFrame(travel_cost.reshape(repeats,-1), columns=methods)\n",
    "df_cost.loc[:, 'size'] = sizes\n",
    "print(df_cost.shape)\n",
    "print(df_cost.info())\n",
    "display(df_cost)"
   ]
  },
  {
   "cell_type": "markdown",
   "metadata": {},
   "source": [
    "# Calculate metrics "
   ]
  },
  {
   "cell_type": "markdown",
   "metadata": {},
   "source": [
    "## Processing time"
   ]
  },
  {
   "cell_type": "code",
   "execution_count": 21,
   "metadata": {},
   "outputs": [
    {
     "data": {
      "text/plain": [
       "greedy        0.000037\n",
       "approx        0.646798\n",
       "approx_woc    0.062356\n",
       "size          0.500000\n",
       "dtype: float64"
      ]
     },
     "execution_count": 21,
     "metadata": {},
     "output_type": "execute_result"
    }
   ],
   "source": [
    "df_time.mean()"
   ]
  },
  {
   "cell_type": "markdown",
   "metadata": {},
   "source": [
    "## Ride-sharing efficiency"
   ]
  },
  {
   "cell_type": "code",
   "execution_count": 22,
   "metadata": {},
   "outputs": [
    {
     "data": {
      "text/html": [
       "<div>\n",
       "<style scoped>\n",
       "    .dataframe tbody tr th:only-of-type {\n",
       "        vertical-align: middle;\n",
       "    }\n",
       "\n",
       "    .dataframe tbody tr th {\n",
       "        vertical-align: top;\n",
       "    }\n",
       "\n",
       "    .dataframe thead th {\n",
       "        text-align: right;\n",
       "    }\n",
       "</style>\n",
       "<table border=\"1\" class=\"dataframe\">\n",
       "  <thead>\n",
       "    <tr style=\"text-align: right;\">\n",
       "      <th></th>\n",
       "      <th>greedy</th>\n",
       "      <th>approx</th>\n",
       "      <th>approx_woc</th>\n",
       "      <th>size</th>\n",
       "      <th>approx_gain</th>\n",
       "      <th>approx_woc_gain</th>\n",
       "    </tr>\n",
       "  </thead>\n",
       "  <tbody>\n",
       "    <tr>\n",
       "      <th>0</th>\n",
       "      <td>11158.3</td>\n",
       "      <td>9909.5</td>\n",
       "      <td>9819.9</td>\n",
       "      <td>0.0</td>\n",
       "      <td>1.126020</td>\n",
       "      <td>1.136295</td>\n",
       "    </tr>\n",
       "    <tr>\n",
       "      <th>1</th>\n",
       "      <td>11158.3</td>\n",
       "      <td>9364.5</td>\n",
       "      <td>9495.9</td>\n",
       "      <td>0.1</td>\n",
       "      <td>1.191553</td>\n",
       "      <td>1.175065</td>\n",
       "    </tr>\n",
       "    <tr>\n",
       "      <th>2</th>\n",
       "      <td>11158.3</td>\n",
       "      <td>9119.1</td>\n",
       "      <td>9389.5</td>\n",
       "      <td>0.2</td>\n",
       "      <td>1.223619</td>\n",
       "      <td>1.188381</td>\n",
       "    </tr>\n",
       "    <tr>\n",
       "      <th>3</th>\n",
       "      <td>11158.3</td>\n",
       "      <td>8996.9</td>\n",
       "      <td>9367.9</td>\n",
       "      <td>0.3</td>\n",
       "      <td>1.240238</td>\n",
       "      <td>1.191121</td>\n",
       "    </tr>\n",
       "    <tr>\n",
       "      <th>4</th>\n",
       "      <td>11158.3</td>\n",
       "      <td>8959.2</td>\n",
       "      <td>9367.9</td>\n",
       "      <td>0.4</td>\n",
       "      <td>1.245457</td>\n",
       "      <td>1.191121</td>\n",
       "    </tr>\n",
       "    <tr>\n",
       "      <th>5</th>\n",
       "      <td>11158.3</td>\n",
       "      <td>8931.2</td>\n",
       "      <td>9340.2</td>\n",
       "      <td>0.5</td>\n",
       "      <td>1.249362</td>\n",
       "      <td>1.194653</td>\n",
       "    </tr>\n",
       "    <tr>\n",
       "      <th>6</th>\n",
       "      <td>11158.3</td>\n",
       "      <td>8902.6</td>\n",
       "      <td>9339.0</td>\n",
       "      <td>0.6</td>\n",
       "      <td>1.253375</td>\n",
       "      <td>1.194807</td>\n",
       "    </tr>\n",
       "    <tr>\n",
       "      <th>7</th>\n",
       "      <td>11158.3</td>\n",
       "      <td>8846.0</td>\n",
       "      <td>9336.5</td>\n",
       "      <td>0.7</td>\n",
       "      <td>1.261395</td>\n",
       "      <td>1.195127</td>\n",
       "    </tr>\n",
       "    <tr>\n",
       "      <th>8</th>\n",
       "      <td>11158.3</td>\n",
       "      <td>8846.0</td>\n",
       "      <td>9336.5</td>\n",
       "      <td>0.8</td>\n",
       "      <td>1.261395</td>\n",
       "      <td>1.195127</td>\n",
       "    </tr>\n",
       "    <tr>\n",
       "      <th>9</th>\n",
       "      <td>11158.3</td>\n",
       "      <td>8846.0</td>\n",
       "      <td>9336.5</td>\n",
       "      <td>0.9</td>\n",
       "      <td>1.261395</td>\n",
       "      <td>1.195127</td>\n",
       "    </tr>\n",
       "    <tr>\n",
       "      <th>10</th>\n",
       "      <td>11158.3</td>\n",
       "      <td>8846.0</td>\n",
       "      <td>9336.5</td>\n",
       "      <td>1.0</td>\n",
       "      <td>1.261395</td>\n",
       "      <td>1.195127</td>\n",
       "    </tr>\n",
       "  </tbody>\n",
       "</table>\n",
       "</div>"
      ],
      "text/plain": [
       "     greedy  approx  approx_woc  size  approx_gain  approx_woc_gain\n",
       "0   11158.3  9909.5      9819.9   0.0     1.126020         1.136295\n",
       "1   11158.3  9364.5      9495.9   0.1     1.191553         1.175065\n",
       "2   11158.3  9119.1      9389.5   0.2     1.223619         1.188381\n",
       "3   11158.3  8996.9      9367.9   0.3     1.240238         1.191121\n",
       "4   11158.3  8959.2      9367.9   0.4     1.245457         1.191121\n",
       "5   11158.3  8931.2      9340.2   0.5     1.249362         1.194653\n",
       "6   11158.3  8902.6      9339.0   0.6     1.253375         1.194807\n",
       "7   11158.3  8846.0      9336.5   0.7     1.261395         1.195127\n",
       "8   11158.3  8846.0      9336.5   0.8     1.261395         1.195127\n",
       "9   11158.3  8846.0      9336.5   0.9     1.261395         1.195127\n",
       "10  11158.3  8846.0      9336.5   1.0     1.261395         1.195127"
      ]
     },
     "metadata": {},
     "output_type": "display_data"
    }
   ],
   "source": [
    "df_cost.loc[:, 'approx_gain'] = df_cost['greedy']/df_cost['approx']\n",
    "df_cost.loc[:, 'approx_woc_gain'] = df_cost['greedy']/df_cost['approx_woc']\n",
    "display(df_cost)"
   ]
  },
  {
   "cell_type": "code",
   "execution_count": 23,
   "metadata": {},
   "outputs": [
    {
     "data": {
      "text/plain": [
       "approx_gain        1.234110\n",
       "approx_woc_gain    1.186541\n",
       "dtype: float64"
      ]
     },
     "execution_count": 23,
     "metadata": {},
     "output_type": "execute_result"
    }
   ],
   "source": [
    "df_cost[['approx_gain', 'approx_woc_gain']].mean()"
   ]
  },
  {
   "cell_type": "code",
   "execution_count": 24,
   "metadata": {},
   "outputs": [
    {
     "data": {
      "text/plain": [
       "greedy        11158.300000\n",
       "approx         9051.545455\n",
       "approx_woc     9406.027273\n",
       "dtype: float64"
      ]
     },
     "execution_count": 24,
     "metadata": {},
     "output_type": "execute_result"
    }
   ],
   "source": [
    "df_cost[['greedy', 'approx', 'approx_woc']].mean()"
   ]
  },
  {
   "cell_type": "markdown",
   "metadata": {},
   "source": [
    "# Plots"
   ]
  },
  {
   "cell_type": "markdown",
   "metadata": {},
   "source": [
    "## Processing time"
   ]
  },
  {
   "cell_type": "code",
   "execution_count": 25,
   "metadata": {},
   "outputs": [
    {
     "data": {
      "image/png": "[encoded data removed]",
      "text/plain": [
       "<Figure size 720x504 with 1 Axes>"
      ]
     },
     "metadata": {
      "needs_background": "light"
     },
     "output_type": "display_data"
    }
   ],
   "source": [
    "plot_proc_time(\n",
    "    df_time, \n",
    "    sizes, \n",
    "    exp_name, \n",
    "    ylim=(10**-2, 10**1), \n",
    "    xlabel='Extra ratio',\n",
    "    legend_loc=(0, 0.7)\n",
    ")"
   ]
  },
  {
   "cell_type": "markdown",
   "metadata": {},
   "source": [
    "## Travel cost"
   ]
  },
  {
   "cell_type": "code",
   "execution_count": 26,
   "metadata": {},
   "outputs": [
    {
     "data": {
      "image/png": "[encoded data removed]",
      "text/plain": [
       "<Figure size 720x504 with 1 Axes>"
      ]
     },
     "metadata": {
      "needs_background": "light"
     },
     "output_type": "display_data"
    }
   ],
   "source": [
    "plot_travel_cost(\n",
    "    df_cost, \n",
    "    sizes, \n",
    "    exp_name, \n",
    "    ylim=(8000,12000), \n",
    "    xlabel='Extra ratio',\n",
    "    legend_loc=(0.5, 0.4)\n",
    ")"
   ]
  },
  {
   "cell_type": "markdown",
   "metadata": {},
   "source": [
    "## Ride-sharing efficiency"
   ]
  },
  {
   "cell_type": "code",
   "execution_count": 27,
   "metadata": {},
   "outputs": [
    {
     "data": {
      "image/png": "[encoded data removed]",
      "text/plain": [
       "<Figure size 720x504 with 1 Axes>"
      ]
     },
     "metadata": {
      "needs_background": "light"
     },
     "output_type": "display_data"
    }
   ],
   "source": [
    "plot_rs_efficiency(\n",
    "    df_cost, \n",
    "    sizes, \n",
    "    exp_name, \n",
    "    ylim=(1.0,1.3), \n",
    "    xlabel='Extra ratio',\n",
    "    legend_loc=(0.5, 0.32)\n",
    ")"
   ]
  },
  {
   "cell_type": "code",
   "execution_count": null,
   "metadata": {},
   "outputs": [],
   "source": []
  }
 ],
 "metadata": {
  "kernelspec": {
   "display_name": "Python 3",
   "language": "python",
   "name": "python3"
  },
  "language_info": {
   "codemirror_mode": {
    "name": "ipython",
    "version": 3
   },
   "file_extension": ".py",
   "mimetype": "text/x-python",
   "name": "python",
   "nbconvert_exporter": "python",
   "pygments_lexer": "ipython3",
   "version": "3.6.10"
  }
 },
 "nbformat": 4,
 "nbformat_minor": 4
}
