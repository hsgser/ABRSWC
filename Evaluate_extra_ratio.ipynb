{
 "cells": [
  {
   "cell_type": "markdown",
   "metadata": {},
   "source": [
    "# Import libraries"
   ]
  },
  {
   "cell_type": "code",
   "execution_count": 1,
   "metadata": {},
   "outputs": [],
   "source": [
    "%load_ext autoreload\n",
    "%autoreload 2\n",
    "import numpy as np\n",
    "import pandas as pd\n",
    "import matplotlib.pyplot as plt\n",
    "import os\n",
    "from utils import *"
   ]
  },
  {
   "cell_type": "markdown",
   "metadata": {},
   "source": [
    "# Parameters"
   ]
  },
  {
   "cell_type": "code",
   "execution_count": 13,
   "metadata": {},
   "outputs": [],
   "source": [
    "fig_dir = 'data/figure'\n",
    "exp_name = 'compare_extra_ratio'\n",
    "time_path = 'data/time/compare_extra_ratio_2020_12_12_1_4_0.npy'\n",
    "cost_path = 'data/cost/compare_extra_ratio_2020_12_12_1_4_0.npy'\n",
    "methods = ['greedy', 'approx', 'approx_woc']\n",
    "sizes = np.linspace(0, 1, num=11)\n",
    "repeats = len(sizes)"
   ]
  },
  {
   "cell_type": "markdown",
   "metadata": {},
   "source": [
    "# Load data"
   ]
  },
  {
   "cell_type": "code",
   "execution_count": 14,
   "metadata": {},
   "outputs": [
    {
     "name": "stdout",
     "output_type": "stream",
     "text": [
      "(33,) (33,)\n",
      "Wall time: 7.98 ms\n"
     ]
    }
   ],
   "source": [
    "%%time\n",
    "run_time = np.load(time_path)\n",
    "travel_cost = np.load(cost_path)\n",
    "print(run_time.shape, travel_cost.shape)"
   ]
  },
  {
   "cell_type": "markdown",
   "metadata": {},
   "source": [
    "# Convert to DataFrame"
   ]
  },
  {
   "cell_type": "code",
   "execution_count": 15,
   "metadata": {},
   "outputs": [
    {
     "name": "stdout",
     "output_type": "stream",
     "text": [
      "(11, 4)\n",
      "<class 'pandas.core.frame.DataFrame'>\n",
      "RangeIndex: 11 entries, 0 to 10\n",
      "Data columns (total 4 columns):\n",
      " #   Column      Non-Null Count  Dtype  \n",
      "---  ------      --------------  -----  \n",
      " 0   greedy      11 non-null     float64\n",
      " 1   approx      11 non-null     float64\n",
      " 2   approx_woc  11 non-null     float64\n",
      " 3   size        11 non-null     float64\n",
      "dtypes: float64(4)\n",
      "memory usage: 480.0 bytes\n",
      "None\n"
     ]
    },
    {
     "data": {
      "text/html": [
       "<div>\n",
       "<style scoped>\n",
       "    .dataframe tbody tr th:only-of-type {\n",
       "        vertical-align: middle;\n",
       "    }\n",
       "\n",
       "    .dataframe tbody tr th {\n",
       "        vertical-align: top;\n",
       "    }\n",
       "\n",
       "    .dataframe thead th {\n",
       "        text-align: right;\n",
       "    }\n",
       "</style>\n",
       "<table border=\"1\" class=\"dataframe\">\n",
       "  <thead>\n",
       "    <tr style=\"text-align: right;\">\n",
       "      <th></th>\n",
       "      <th>greedy</th>\n",
       "      <th>approx</th>\n",
       "      <th>approx_woc</th>\n",
       "      <th>size</th>\n",
       "    </tr>\n",
       "  </thead>\n",
       "  <tbody>\n",
       "    <tr>\n",
       "      <th>0</th>\n",
       "      <td>0.0000</td>\n",
       "      <td>0.488741</td>\n",
       "      <td>0.029040</td>\n",
       "      <td>0.0</td>\n",
       "    </tr>\n",
       "    <tr>\n",
       "      <th>1</th>\n",
       "      <td>0.0001</td>\n",
       "      <td>0.502151</td>\n",
       "      <td>0.038065</td>\n",
       "      <td>0.1</td>\n",
       "    </tr>\n",
       "    <tr>\n",
       "      <th>2</th>\n",
       "      <td>0.0000</td>\n",
       "      <td>0.518319</td>\n",
       "      <td>0.041919</td>\n",
       "      <td>0.2</td>\n",
       "    </tr>\n",
       "    <tr>\n",
       "      <th>3</th>\n",
       "      <td>0.0001</td>\n",
       "      <td>0.506253</td>\n",
       "      <td>0.058229</td>\n",
       "      <td>0.3</td>\n",
       "    </tr>\n",
       "    <tr>\n",
       "      <th>4</th>\n",
       "      <td>0.0000</td>\n",
       "      <td>0.531262</td>\n",
       "      <td>0.056376</td>\n",
       "      <td>0.4</td>\n",
       "    </tr>\n",
       "    <tr>\n",
       "      <th>5</th>\n",
       "      <td>0.0001</td>\n",
       "      <td>0.555429</td>\n",
       "      <td>0.069125</td>\n",
       "      <td>0.5</td>\n",
       "    </tr>\n",
       "    <tr>\n",
       "      <th>6</th>\n",
       "      <td>0.0000</td>\n",
       "      <td>0.556430</td>\n",
       "      <td>0.070010</td>\n",
       "      <td>0.6</td>\n",
       "    </tr>\n",
       "    <tr>\n",
       "      <th>7</th>\n",
       "      <td>0.0000</td>\n",
       "      <td>0.539316</td>\n",
       "      <td>0.076319</td>\n",
       "      <td>0.7</td>\n",
       "    </tr>\n",
       "    <tr>\n",
       "      <th>8</th>\n",
       "      <td>0.0000</td>\n",
       "      <td>0.580117</td>\n",
       "      <td>0.081273</td>\n",
       "      <td>0.8</td>\n",
       "    </tr>\n",
       "    <tr>\n",
       "      <th>9</th>\n",
       "      <td>0.0000</td>\n",
       "      <td>0.571307</td>\n",
       "      <td>0.083742</td>\n",
       "      <td>0.9</td>\n",
       "    </tr>\n",
       "    <tr>\n",
       "      <th>10</th>\n",
       "      <td>0.0000</td>\n",
       "      <td>0.577132</td>\n",
       "      <td>0.086553</td>\n",
       "      <td>1.0</td>\n",
       "    </tr>\n",
       "  </tbody>\n",
       "</table>\n",
       "</div>"
      ],
      "text/plain": [
       "    greedy    approx  approx_woc  size\n",
       "0   0.0000  0.488741    0.029040   0.0\n",
       "1   0.0001  0.502151    0.038065   0.1\n",
       "2   0.0000  0.518319    0.041919   0.2\n",
       "3   0.0001  0.506253    0.058229   0.3\n",
       "4   0.0000  0.531262    0.056376   0.4\n",
       "5   0.0001  0.555429    0.069125   0.5\n",
       "6   0.0000  0.556430    0.070010   0.6\n",
       "7   0.0000  0.539316    0.076319   0.7\n",
       "8   0.0000  0.580117    0.081273   0.8\n",
       "9   0.0000  0.571307    0.083742   0.9\n",
       "10  0.0000  0.577132    0.086553   1.0"
      ]
     },
     "metadata": {},
     "output_type": "display_data"
    }
   ],
   "source": [
    "df_time = pd.DataFrame(run_time.reshape(repeats,-1)/np.power(10,6), columns=methods)\n",
    "df_time.loc[:, 'size'] = sizes\n",
    "print(df_time.shape)\n",
    "print(df_time.info())\n",
    "display(df_time)"
   ]
  },
  {
   "cell_type": "code",
   "execution_count": 16,
   "metadata": {},
   "outputs": [
    {
     "name": "stdout",
     "output_type": "stream",
     "text": [
      "(11, 4)\n",
      "<class 'pandas.core.frame.DataFrame'>\n",
      "RangeIndex: 11 entries, 0 to 10\n",
      "Data columns (total 4 columns):\n",
      " #   Column      Non-Null Count  Dtype  \n",
      "---  ------      --------------  -----  \n",
      " 0   greedy      11 non-null     float64\n",
      " 1   approx      11 non-null     float64\n",
      " 2   approx_woc  11 non-null     float64\n",
      " 3   size        11 non-null     float64\n",
      "dtypes: float64(4)\n",
      "memory usage: 480.0 bytes\n",
      "None\n"
     ]
    },
    {
     "data": {
      "text/html": [
       "<div>\n",
       "<style scoped>\n",
       "    .dataframe tbody tr th:only-of-type {\n",
       "        vertical-align: middle;\n",
       "    }\n",
       "\n",
       "    .dataframe tbody tr th {\n",
       "        vertical-align: top;\n",
       "    }\n",
       "\n",
       "    .dataframe thead th {\n",
       "        text-align: right;\n",
       "    }\n",
       "</style>\n",
       "<table border=\"1\" class=\"dataframe\">\n",
       "  <thead>\n",
       "    <tr style=\"text-align: right;\">\n",
       "      <th></th>\n",
       "      <th>greedy</th>\n",
       "      <th>approx</th>\n",
       "      <th>approx_woc</th>\n",
       "      <th>size</th>\n",
       "    </tr>\n",
       "  </thead>\n",
       "  <tbody>\n",
       "    <tr>\n",
       "      <th>0</th>\n",
       "      <td>10733.1</td>\n",
       "      <td>10009.5</td>\n",
       "      <td>9987.6</td>\n",
       "      <td>0.0</td>\n",
       "    </tr>\n",
       "    <tr>\n",
       "      <th>1</th>\n",
       "      <td>10733.1</td>\n",
       "      <td>9552.3</td>\n",
       "      <td>9497.2</td>\n",
       "      <td>0.1</td>\n",
       "    </tr>\n",
       "    <tr>\n",
       "      <th>2</th>\n",
       "      <td>10733.1</td>\n",
       "      <td>9386.2</td>\n",
       "      <td>9414.4</td>\n",
       "      <td>0.2</td>\n",
       "    </tr>\n",
       "    <tr>\n",
       "      <th>3</th>\n",
       "      <td>10733.1</td>\n",
       "      <td>9243.3</td>\n",
       "      <td>9352.6</td>\n",
       "      <td>0.3</td>\n",
       "    </tr>\n",
       "    <tr>\n",
       "      <th>4</th>\n",
       "      <td>10733.1</td>\n",
       "      <td>9229.1</td>\n",
       "      <td>9350.0</td>\n",
       "      <td>0.4</td>\n",
       "    </tr>\n",
       "    <tr>\n",
       "      <th>5</th>\n",
       "      <td>10733.1</td>\n",
       "      <td>9215.2</td>\n",
       "      <td>9346.7</td>\n",
       "      <td>0.5</td>\n",
       "    </tr>\n",
       "    <tr>\n",
       "      <th>6</th>\n",
       "      <td>10733.1</td>\n",
       "      <td>9206.3</td>\n",
       "      <td>9342.0</td>\n",
       "      <td>0.6</td>\n",
       "    </tr>\n",
       "    <tr>\n",
       "      <th>7</th>\n",
       "      <td>10733.1</td>\n",
       "      <td>9202.3</td>\n",
       "      <td>9342.0</td>\n",
       "      <td>0.7</td>\n",
       "    </tr>\n",
       "    <tr>\n",
       "      <th>8</th>\n",
       "      <td>10733.1</td>\n",
       "      <td>9202.3</td>\n",
       "      <td>9342.0</td>\n",
       "      <td>0.8</td>\n",
       "    </tr>\n",
       "    <tr>\n",
       "      <th>9</th>\n",
       "      <td>10733.1</td>\n",
       "      <td>9197.8</td>\n",
       "      <td>9337.5</td>\n",
       "      <td>0.9</td>\n",
       "    </tr>\n",
       "    <tr>\n",
       "      <th>10</th>\n",
       "      <td>10733.1</td>\n",
       "      <td>9197.8</td>\n",
       "      <td>9337.5</td>\n",
       "      <td>1.0</td>\n",
       "    </tr>\n",
       "  </tbody>\n",
       "</table>\n",
       "</div>"
      ],
      "text/plain": [
       "     greedy   approx  approx_woc  size\n",
       "0   10733.1  10009.5      9987.6   0.0\n",
       "1   10733.1   9552.3      9497.2   0.1\n",
       "2   10733.1   9386.2      9414.4   0.2\n",
       "3   10733.1   9243.3      9352.6   0.3\n",
       "4   10733.1   9229.1      9350.0   0.4\n",
       "5   10733.1   9215.2      9346.7   0.5\n",
       "6   10733.1   9206.3      9342.0   0.6\n",
       "7   10733.1   9202.3      9342.0   0.7\n",
       "8   10733.1   9202.3      9342.0   0.8\n",
       "9   10733.1   9197.8      9337.5   0.9\n",
       "10  10733.1   9197.8      9337.5   1.0"
      ]
     },
     "metadata": {},
     "output_type": "display_data"
    }
   ],
   "source": [
    "df_cost =  pd.DataFrame(travel_cost.reshape(repeats,-1), columns=methods)\n",
    "df_cost.loc[:, 'size'] = sizes\n",
    "print(df_cost.shape)\n",
    "print(df_cost.info())\n",
    "display(df_cost)"
   ]
  },
  {
   "cell_type": "markdown",
   "metadata": {},
   "source": [
    "# Calculate metrics "
   ]
  },
  {
   "cell_type": "markdown",
   "metadata": {},
   "source": [
    "## Processing time"
   ]
  },
  {
   "cell_type": "code",
   "execution_count": 17,
   "metadata": {},
   "outputs": [
    {
     "data": {
      "text/plain": [
       "greedy        0.000027\n",
       "approx        0.538769\n",
       "approx_woc    0.062786\n",
       "size          0.500000\n",
       "dtype: float64"
      ]
     },
     "execution_count": 17,
     "metadata": {},
     "output_type": "execute_result"
    }
   ],
   "source": [
    "df_time.mean()"
   ]
  },
  {
   "cell_type": "markdown",
   "metadata": {},
   "source": [
    "## Ride-sharing efficiency"
   ]
  },
  {
   "cell_type": "code",
   "execution_count": 18,
   "metadata": {},
   "outputs": [
    {
     "data": {
      "text/html": [
       "<div>\n",
       "<style scoped>\n",
       "    .dataframe tbody tr th:only-of-type {\n",
       "        vertical-align: middle;\n",
       "    }\n",
       "\n",
       "    .dataframe tbody tr th {\n",
       "        vertical-align: top;\n",
       "    }\n",
       "\n",
       "    .dataframe thead th {\n",
       "        text-align: right;\n",
       "    }\n",
       "</style>\n",
       "<table border=\"1\" class=\"dataframe\">\n",
       "  <thead>\n",
       "    <tr style=\"text-align: right;\">\n",
       "      <th></th>\n",
       "      <th>greedy</th>\n",
       "      <th>approx</th>\n",
       "      <th>approx_woc</th>\n",
       "      <th>size</th>\n",
       "      <th>approx_gain</th>\n",
       "      <th>approx_woc_gain</th>\n",
       "    </tr>\n",
       "  </thead>\n",
       "  <tbody>\n",
       "    <tr>\n",
       "      <th>0</th>\n",
       "      <td>10733.1</td>\n",
       "      <td>10009.5</td>\n",
       "      <td>9987.6</td>\n",
       "      <td>0.0</td>\n",
       "      <td>1.072291</td>\n",
       "      <td>1.074643</td>\n",
       "    </tr>\n",
       "    <tr>\n",
       "      <th>1</th>\n",
       "      <td>10733.1</td>\n",
       "      <td>9552.3</td>\n",
       "      <td>9497.2</td>\n",
       "      <td>0.1</td>\n",
       "      <td>1.123614</td>\n",
       "      <td>1.130133</td>\n",
       "    </tr>\n",
       "    <tr>\n",
       "      <th>2</th>\n",
       "      <td>10733.1</td>\n",
       "      <td>9386.2</td>\n",
       "      <td>9414.4</td>\n",
       "      <td>0.2</td>\n",
       "      <td>1.143498</td>\n",
       "      <td>1.140073</td>\n",
       "    </tr>\n",
       "    <tr>\n",
       "      <th>3</th>\n",
       "      <td>10733.1</td>\n",
       "      <td>9243.3</td>\n",
       "      <td>9352.6</td>\n",
       "      <td>0.3</td>\n",
       "      <td>1.161176</td>\n",
       "      <td>1.147606</td>\n",
       "    </tr>\n",
       "    <tr>\n",
       "      <th>4</th>\n",
       "      <td>10733.1</td>\n",
       "      <td>9229.1</td>\n",
       "      <td>9350.0</td>\n",
       "      <td>0.4</td>\n",
       "      <td>1.162963</td>\n",
       "      <td>1.147925</td>\n",
       "    </tr>\n",
       "    <tr>\n",
       "      <th>5</th>\n",
       "      <td>10733.1</td>\n",
       "      <td>9215.2</td>\n",
       "      <td>9346.7</td>\n",
       "      <td>0.5</td>\n",
       "      <td>1.164717</td>\n",
       "      <td>1.148330</td>\n",
       "    </tr>\n",
       "    <tr>\n",
       "      <th>6</th>\n",
       "      <td>10733.1</td>\n",
       "      <td>9206.3</td>\n",
       "      <td>9342.0</td>\n",
       "      <td>0.6</td>\n",
       "      <td>1.165843</td>\n",
       "      <td>1.148908</td>\n",
       "    </tr>\n",
       "    <tr>\n",
       "      <th>7</th>\n",
       "      <td>10733.1</td>\n",
       "      <td>9202.3</td>\n",
       "      <td>9342.0</td>\n",
       "      <td>0.7</td>\n",
       "      <td>1.166350</td>\n",
       "      <td>1.148908</td>\n",
       "    </tr>\n",
       "    <tr>\n",
       "      <th>8</th>\n",
       "      <td>10733.1</td>\n",
       "      <td>9202.3</td>\n",
       "      <td>9342.0</td>\n",
       "      <td>0.8</td>\n",
       "      <td>1.166350</td>\n",
       "      <td>1.148908</td>\n",
       "    </tr>\n",
       "    <tr>\n",
       "      <th>9</th>\n",
       "      <td>10733.1</td>\n",
       "      <td>9197.8</td>\n",
       "      <td>9337.5</td>\n",
       "      <td>0.9</td>\n",
       "      <td>1.166920</td>\n",
       "      <td>1.149462</td>\n",
       "    </tr>\n",
       "    <tr>\n",
       "      <th>10</th>\n",
       "      <td>10733.1</td>\n",
       "      <td>9197.8</td>\n",
       "      <td>9337.5</td>\n",
       "      <td>1.0</td>\n",
       "      <td>1.166920</td>\n",
       "      <td>1.149462</td>\n",
       "    </tr>\n",
       "  </tbody>\n",
       "</table>\n",
       "</div>"
      ],
      "text/plain": [
       "     greedy   approx  approx_woc  size  approx_gain  approx_woc_gain\n",
       "0   10733.1  10009.5      9987.6   0.0     1.072291         1.074643\n",
       "1   10733.1   9552.3      9497.2   0.1     1.123614         1.130133\n",
       "2   10733.1   9386.2      9414.4   0.2     1.143498         1.140073\n",
       "3   10733.1   9243.3      9352.6   0.3     1.161176         1.147606\n",
       "4   10733.1   9229.1      9350.0   0.4     1.162963         1.147925\n",
       "5   10733.1   9215.2      9346.7   0.5     1.164717         1.148330\n",
       "6   10733.1   9206.3      9342.0   0.6     1.165843         1.148908\n",
       "7   10733.1   9202.3      9342.0   0.7     1.166350         1.148908\n",
       "8   10733.1   9202.3      9342.0   0.8     1.166350         1.148908\n",
       "9   10733.1   9197.8      9337.5   0.9     1.166920         1.149462\n",
       "10  10733.1   9197.8      9337.5   1.0     1.166920         1.149462"
      ]
     },
     "metadata": {},
     "output_type": "display_data"
    }
   ],
   "source": [
    "df_cost.loc[:, 'approx_gain'] = df_cost['greedy']/df_cost['approx']\n",
    "df_cost.loc[:, 'approx_woc_gain'] = df_cost['greedy']/df_cost['approx_woc']\n",
    "display(df_cost)"
   ]
  },
  {
   "cell_type": "code",
   "execution_count": 19,
   "metadata": {},
   "outputs": [
    {
     "data": {
      "text/plain": [
       "approx_gain        1.150968\n",
       "approx_woc_gain    1.139487\n",
       "dtype: float64"
      ]
     },
     "execution_count": 19,
     "metadata": {},
     "output_type": "execute_result"
    }
   ],
   "source": [
    "df_cost[['approx_gain', 'approx_woc_gain']].mean()"
   ]
  },
  {
   "cell_type": "code",
   "execution_count": 20,
   "metadata": {},
   "outputs": [
    {
     "data": {
      "text/plain": [
       "greedy        10733.100000\n",
       "approx         9331.100000\n",
       "approx_woc     9422.681818\n",
       "dtype: float64"
      ]
     },
     "execution_count": 20,
     "metadata": {},
     "output_type": "execute_result"
    }
   ],
   "source": [
    "df_cost[['greedy', 'approx', 'approx_woc']].mean()"
   ]
  },
  {
   "cell_type": "markdown",
   "metadata": {},
   "source": [
    "# Plots"
   ]
  },
  {
   "cell_type": "markdown",
   "metadata": {},
   "source": [
    "## Processing time"
   ]
  },
  {
   "cell_type": "code",
   "execution_count": 21,
   "metadata": {},
   "outputs": [
    {
     "data": {
      "image/png": "[encoded data removed]",
      "text/plain": [
       "<Figure size 720x504 with 1 Axes>"
      ]
     },
     "metadata": {
      "needs_background": "light"
     },
     "output_type": "display_data"
    }
   ],
   "source": [
    "plot_proc_time(\n",
    "    df_time, \n",
    "    sizes, \n",
    "    exp_name, \n",
    "    ylim=(10**-2, 10**1), \n",
    "    xlabel='Extra ratio',\n",
    "    legend_loc=(0, 0.7)\n",
    ")"
   ]
  },
  {
   "cell_type": "markdown",
   "metadata": {},
   "source": [
    "## Travel cost"
   ]
  },
  {
   "cell_type": "code",
   "execution_count": 22,
   "metadata": {},
   "outputs": [
    {
     "data": {
      "image/png": "[encoded data removed]",
      "text/plain": [
       "<Figure size 720x504 with 1 Axes>"
      ]
     },
     "metadata": {
      "needs_background": "light"
     },
     "output_type": "display_data"
    }
   ],
   "source": [
    "plot_travel_cost(\n",
    "    df_cost, \n",
    "    sizes, \n",
    "    exp_name, \n",
    "    ylim=(8000,12000), \n",
    "    xlabel='Extra ratio',\n",
    "    legend_loc=(0.5, 0.4)\n",
    ")"
   ]
  },
  {
   "cell_type": "markdown",
   "metadata": {},
   "source": [
    "## Ride-sharing efficiency"
   ]
  },
  {
   "cell_type": "code",
   "execution_count": 23,
   "metadata": {},
   "outputs": [
    {
     "data": {
      "image/png": "[encoded data removed]",
      "text/plain": [
       "<Figure size 720x504 with 1 Axes>"
      ]
     },
     "metadata": {
      "needs_background": "light"
     },
     "output_type": "display_data"
    }
   ],
   "source": [
    "plot_rs_efficiency(\n",
    "    df_cost, \n",
    "    sizes, \n",
    "    exp_name, \n",
    "    ylim=(1.0,1.3), \n",
    "    xlabel='Extra ratio',\n",
    "    legend_loc=(0.5, 0.32)\n",
    ")"
   ]
  },
  {
   "cell_type": "code",
   "execution_count": null,
   "metadata": {},
   "outputs": [],
   "source": []
  }
 ],
 "metadata": {
  "kernelspec": {
   "display_name": "Python 3",
   "language": "python",
   "name": "python3"
  },
  "language_info": {
   "codemirror_mode": {
    "name": "ipython",
    "version": 3
   },
   "file_extension": ".py",
   "mimetype": "text/x-python",
   "name": "python",
   "nbconvert_exporter": "python",
   "pygments_lexer": "ipython3",
   "version": "3.6.10"
  }
 },
 "nbformat": 4,
 "nbformat_minor": 4
}
