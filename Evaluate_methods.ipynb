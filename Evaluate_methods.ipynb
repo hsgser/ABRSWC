{
 "cells": [
  {
   "cell_type": "markdown",
   "metadata": {},
   "source": [
    "# Import libraries"
   ]
  },
  {
   "cell_type": "code",
   "execution_count": 1,
   "metadata": {},
   "outputs": [],
   "source": [
    "%load_ext autoreload\n",
    "%autoreload 2\n",
    "import numpy as np\n",
    "import pandas as pd\n",
    "import matplotlib.pyplot as plt\n",
    "import os\n",
    "from utils import *"
   ]
  },
  {
   "cell_type": "markdown",
   "metadata": {},
   "source": [
    "# Parameters"
   ]
  },
  {
   "cell_type": "code",
   "execution_count": 2,
   "metadata": {},
   "outputs": [],
   "source": [
    "fig_dir = 'data/figure'\n",
    "exp_name = 'compare_methods'\n",
    "time_path = 'data/time/compare_methods_2020_12_14_1_4_52.npy'\n",
    "cost_path = 'data/cost/compare_methods_2020_12_14_1_4_52.npy'\n",
    "methods = ['greedy', 'optimal', 'approx', 'approx_woc']\n",
    "sizes = np.arange(1, 11)\n",
    "repeats = 10"
   ]
  },
  {
   "cell_type": "markdown",
   "metadata": {},
   "source": [
    "# Load data"
   ]
  },
  {
   "cell_type": "code",
   "execution_count": 3,
   "metadata": {},
   "outputs": [
    {
     "name": "stdout",
     "output_type": "stream",
     "text": [
      "(40,) (40,)\n",
      "Wall time: 4.97 ms\n"
     ]
    }
   ],
   "source": [
    "%%time\n",
    "run_time = np.load(time_path)\n",
    "travel_cost = np.load(cost_path)\n",
    "print(run_time.shape, travel_cost.shape)"
   ]
  },
  {
   "cell_type": "markdown",
   "metadata": {},
   "source": [
    "# Convert to DataFrame"
   ]
  },
  {
   "cell_type": "code",
   "execution_count": 4,
   "metadata": {},
   "outputs": [
    {
     "name": "stdout",
     "output_type": "stream",
     "text": [
      "(10, 4)\n",
      "<class 'pandas.core.frame.DataFrame'>\n",
      "RangeIndex: 10 entries, 0 to 9\n",
      "Data columns (total 4 columns):\n",
      " #   Column      Non-Null Count  Dtype  \n",
      "---  ------      --------------  -----  \n",
      " 0   greedy      10 non-null     float64\n",
      " 1   optimal     10 non-null     float64\n",
      " 2   approx      10 non-null     float64\n",
      " 3   approx_woc  10 non-null     float64\n",
      "dtypes: float64(4)\n",
      "memory usage: 448.0 bytes\n",
      "None\n"
     ]
    },
    {
     "data": {
      "text/html": [
       "<div>\n",
       "<style scoped>\n",
       "    .dataframe tbody tr th:only-of-type {\n",
       "        vertical-align: middle;\n",
       "    }\n",
       "\n",
       "    .dataframe tbody tr th {\n",
       "        vertical-align: top;\n",
       "    }\n",
       "\n",
       "    .dataframe thead th {\n",
       "        text-align: right;\n",
       "    }\n",
       "</style>\n",
       "<table border=\"1\" class=\"dataframe\">\n",
       "  <thead>\n",
       "    <tr style=\"text-align: right;\">\n",
       "      <th></th>\n",
       "      <th>greedy</th>\n",
       "      <th>optimal</th>\n",
       "      <th>approx</th>\n",
       "      <th>approx_woc</th>\n",
       "    </tr>\n",
       "  </thead>\n",
       "  <tbody>\n",
       "    <tr>\n",
       "      <th>0</th>\n",
       "      <td>0.000000</td>\n",
       "      <td>39.972292</td>\n",
       "      <td>0.777624</td>\n",
       "      <td>0.066177</td>\n",
       "    </tr>\n",
       "    <tr>\n",
       "      <th>1</th>\n",
       "      <td>0.000000</td>\n",
       "      <td>43.826830</td>\n",
       "      <td>0.713174</td>\n",
       "      <td>0.078114</td>\n",
       "    </tr>\n",
       "    <tr>\n",
       "      <th>2</th>\n",
       "      <td>0.000097</td>\n",
       "      <td>41.751241</td>\n",
       "      <td>0.678946</td>\n",
       "      <td>0.070615</td>\n",
       "    </tr>\n",
       "    <tr>\n",
       "      <th>3</th>\n",
       "      <td>0.000000</td>\n",
       "      <td>43.381225</td>\n",
       "      <td>0.703977</td>\n",
       "      <td>0.094355</td>\n",
       "    </tr>\n",
       "    <tr>\n",
       "      <th>4</th>\n",
       "      <td>0.000000</td>\n",
       "      <td>46.299124</td>\n",
       "      <td>0.754335</td>\n",
       "      <td>0.096643</td>\n",
       "    </tr>\n",
       "    <tr>\n",
       "      <th>5</th>\n",
       "      <td>0.000097</td>\n",
       "      <td>45.003437</td>\n",
       "      <td>0.686456</td>\n",
       "      <td>0.083131</td>\n",
       "    </tr>\n",
       "    <tr>\n",
       "      <th>6</th>\n",
       "      <td>0.000198</td>\n",
       "      <td>43.027262</td>\n",
       "      <td>0.682173</td>\n",
       "      <td>0.066935</td>\n",
       "    </tr>\n",
       "    <tr>\n",
       "      <th>7</th>\n",
       "      <td>0.000100</td>\n",
       "      <td>41.444201</td>\n",
       "      <td>0.683003</td>\n",
       "      <td>0.089269</td>\n",
       "    </tr>\n",
       "    <tr>\n",
       "      <th>8</th>\n",
       "      <td>0.000100</td>\n",
       "      <td>41.509849</td>\n",
       "      <td>0.667716</td>\n",
       "      <td>0.105167</td>\n",
       "    </tr>\n",
       "    <tr>\n",
       "      <th>9</th>\n",
       "      <td>0.000100</td>\n",
       "      <td>42.606138</td>\n",
       "      <td>0.695376</td>\n",
       "      <td>0.083485</td>\n",
       "    </tr>\n",
       "  </tbody>\n",
       "</table>\n",
       "</div>"
      ],
      "text/plain": [
       "     greedy    optimal    approx  approx_woc\n",
       "0  0.000000  39.972292  0.777624    0.066177\n",
       "1  0.000000  43.826830  0.713174    0.078114\n",
       "2  0.000097  41.751241  0.678946    0.070615\n",
       "3  0.000000  43.381225  0.703977    0.094355\n",
       "4  0.000000  46.299124  0.754335    0.096643\n",
       "5  0.000097  45.003437  0.686456    0.083131\n",
       "6  0.000198  43.027262  0.682173    0.066935\n",
       "7  0.000100  41.444201  0.683003    0.089269\n",
       "8  0.000100  41.509849  0.667716    0.105167\n",
       "9  0.000100  42.606138  0.695376    0.083485"
      ]
     },
     "metadata": {},
     "output_type": "display_data"
    }
   ],
   "source": [
    "df_time = pd.DataFrame(run_time.reshape(repeats,-1)/np.power(10, 6), columns=methods)\n",
    "print(df_time.shape)\n",
    "print(df_time.info())\n",
    "display(df_time)"
   ]
  },
  {
   "cell_type": "code",
   "execution_count": 5,
   "metadata": {},
   "outputs": [
    {
     "name": "stdout",
     "output_type": "stream",
     "text": [
      "(10, 4)\n",
      "<class 'pandas.core.frame.DataFrame'>\n",
      "RangeIndex: 10 entries, 0 to 9\n",
      "Data columns (total 4 columns):\n",
      " #   Column      Non-Null Count  Dtype  \n",
      "---  ------      --------------  -----  \n",
      " 0   greedy      10 non-null     float64\n",
      " 1   optimal     10 non-null     float64\n",
      " 2   approx      10 non-null     float64\n",
      " 3   approx_woc  10 non-null     float64\n",
      "dtypes: float64(4)\n",
      "memory usage: 448.0 bytes\n",
      "None\n"
     ]
    },
    {
     "data": {
      "text/html": [
       "<div>\n",
       "<style scoped>\n",
       "    .dataframe tbody tr th:only-of-type {\n",
       "        vertical-align: middle;\n",
       "    }\n",
       "\n",
       "    .dataframe tbody tr th {\n",
       "        vertical-align: top;\n",
       "    }\n",
       "\n",
       "    .dataframe thead th {\n",
       "        text-align: right;\n",
       "    }\n",
       "</style>\n",
       "<table border=\"1\" class=\"dataframe\">\n",
       "  <thead>\n",
       "    <tr style=\"text-align: right;\">\n",
       "      <th></th>\n",
       "      <th>greedy</th>\n",
       "      <th>optimal</th>\n",
       "      <th>approx</th>\n",
       "      <th>approx_woc</th>\n",
       "    </tr>\n",
       "  </thead>\n",
       "  <tbody>\n",
       "    <tr>\n",
       "      <th>0</th>\n",
       "      <td>10795.6</td>\n",
       "      <td>8721.6</td>\n",
       "      <td>8874.3</td>\n",
       "      <td>9189.9</td>\n",
       "    </tr>\n",
       "    <tr>\n",
       "      <th>1</th>\n",
       "      <td>11359.4</td>\n",
       "      <td>9146.3</td>\n",
       "      <td>9420.8</td>\n",
       "      <td>9681.6</td>\n",
       "    </tr>\n",
       "    <tr>\n",
       "      <th>2</th>\n",
       "      <td>11255.3</td>\n",
       "      <td>8897.2</td>\n",
       "      <td>9140.8</td>\n",
       "      <td>9549.1</td>\n",
       "    </tr>\n",
       "    <tr>\n",
       "      <th>3</th>\n",
       "      <td>11081.1</td>\n",
       "      <td>8792.6</td>\n",
       "      <td>9164.7</td>\n",
       "      <td>9313.7</td>\n",
       "    </tr>\n",
       "    <tr>\n",
       "      <th>4</th>\n",
       "      <td>12207.9</td>\n",
       "      <td>9404.4</td>\n",
       "      <td>9810.7</td>\n",
       "      <td>10084.4</td>\n",
       "    </tr>\n",
       "    <tr>\n",
       "      <th>5</th>\n",
       "      <td>11394.7</td>\n",
       "      <td>8867.0</td>\n",
       "      <td>9257.6</td>\n",
       "      <td>9454.2</td>\n",
       "    </tr>\n",
       "    <tr>\n",
       "      <th>6</th>\n",
       "      <td>10975.9</td>\n",
       "      <td>8869.2</td>\n",
       "      <td>8984.8</td>\n",
       "      <td>9509.9</td>\n",
       "    </tr>\n",
       "    <tr>\n",
       "      <th>7</th>\n",
       "      <td>11213.4</td>\n",
       "      <td>8945.1</td>\n",
       "      <td>9320.2</td>\n",
       "      <td>9398.4</td>\n",
       "    </tr>\n",
       "    <tr>\n",
       "      <th>8</th>\n",
       "      <td>11452.0</td>\n",
       "      <td>8935.7</td>\n",
       "      <td>9263.2</td>\n",
       "      <td>9472.4</td>\n",
       "    </tr>\n",
       "    <tr>\n",
       "      <th>9</th>\n",
       "      <td>10550.6</td>\n",
       "      <td>8223.8</td>\n",
       "      <td>8473.3</td>\n",
       "      <td>8857.8</td>\n",
       "    </tr>\n",
       "  </tbody>\n",
       "</table>\n",
       "</div>"
      ],
      "text/plain": [
       "    greedy  optimal  approx  approx_woc\n",
       "0  10795.6   8721.6  8874.3      9189.9\n",
       "1  11359.4   9146.3  9420.8      9681.6\n",
       "2  11255.3   8897.2  9140.8      9549.1\n",
       "3  11081.1   8792.6  9164.7      9313.7\n",
       "4  12207.9   9404.4  9810.7     10084.4\n",
       "5  11394.7   8867.0  9257.6      9454.2\n",
       "6  10975.9   8869.2  8984.8      9509.9\n",
       "7  11213.4   8945.1  9320.2      9398.4\n",
       "8  11452.0   8935.7  9263.2      9472.4\n",
       "9  10550.6   8223.8  8473.3      8857.8"
      ]
     },
     "metadata": {},
     "output_type": "display_data"
    }
   ],
   "source": [
    "df_cost =  pd.DataFrame(travel_cost.reshape(repeats,-1), columns=methods)\n",
    "print(df_cost.shape)\n",
    "print(df_cost.info())\n",
    "display(df_cost)"
   ]
  },
  {
   "cell_type": "markdown",
   "metadata": {},
   "source": [
    "# Calculate metrics "
   ]
  },
  {
   "cell_type": "markdown",
   "metadata": {},
   "source": [
    "## Processing time"
   ]
  },
  {
   "cell_type": "code",
   "execution_count": 6,
   "metadata": {},
   "outputs": [
    {
     "data": {
      "text/plain": [
       "greedy         0.000069\n",
       "optimal       42.882160\n",
       "approx         0.704278\n",
       "approx_woc     0.083389\n",
       "dtype: float64"
      ]
     },
     "execution_count": 6,
     "metadata": {},
     "output_type": "execute_result"
    }
   ],
   "source": [
    "df_time.mean()"
   ]
  },
  {
   "cell_type": "markdown",
   "metadata": {},
   "source": [
    "## Approximation ratio"
   ]
  },
  {
   "cell_type": "code",
   "execution_count": 7,
   "metadata": {},
   "outputs": [
    {
     "data": {
      "text/html": [
       "<div>\n",
       "<style scoped>\n",
       "    .dataframe tbody tr th:only-of-type {\n",
       "        vertical-align: middle;\n",
       "    }\n",
       "\n",
       "    .dataframe tbody tr th {\n",
       "        vertical-align: top;\n",
       "    }\n",
       "\n",
       "    .dataframe thead th {\n",
       "        text-align: right;\n",
       "    }\n",
       "</style>\n",
       "<table border=\"1\" class=\"dataframe\">\n",
       "  <thead>\n",
       "    <tr style=\"text-align: right;\">\n",
       "      <th></th>\n",
       "      <th>greedy</th>\n",
       "      <th>optimal</th>\n",
       "      <th>approx</th>\n",
       "      <th>approx_woc</th>\n",
       "      <th>approx_ratio</th>\n",
       "      <th>approx_woc_ratio</th>\n",
       "      <th>greedy_ratio</th>\n",
       "    </tr>\n",
       "  </thead>\n",
       "  <tbody>\n",
       "    <tr>\n",
       "      <th>0</th>\n",
       "      <td>10795.6</td>\n",
       "      <td>8721.6</td>\n",
       "      <td>8874.3</td>\n",
       "      <td>9189.9</td>\n",
       "      <td>1.017508</td>\n",
       "      <td>1.053694</td>\n",
       "      <td>1.237800</td>\n",
       "    </tr>\n",
       "    <tr>\n",
       "      <th>1</th>\n",
       "      <td>11359.4</td>\n",
       "      <td>9146.3</td>\n",
       "      <td>9420.8</td>\n",
       "      <td>9681.6</td>\n",
       "      <td>1.030012</td>\n",
       "      <td>1.058526</td>\n",
       "      <td>1.241967</td>\n",
       "    </tr>\n",
       "    <tr>\n",
       "      <th>2</th>\n",
       "      <td>11255.3</td>\n",
       "      <td>8897.2</td>\n",
       "      <td>9140.8</td>\n",
       "      <td>9549.1</td>\n",
       "      <td>1.027379</td>\n",
       "      <td>1.073270</td>\n",
       "      <td>1.265038</td>\n",
       "    </tr>\n",
       "    <tr>\n",
       "      <th>3</th>\n",
       "      <td>11081.1</td>\n",
       "      <td>8792.6</td>\n",
       "      <td>9164.7</td>\n",
       "      <td>9313.7</td>\n",
       "      <td>1.042320</td>\n",
       "      <td>1.059266</td>\n",
       "      <td>1.260276</td>\n",
       "    </tr>\n",
       "    <tr>\n",
       "      <th>4</th>\n",
       "      <td>12207.9</td>\n",
       "      <td>9404.4</td>\n",
       "      <td>9810.7</td>\n",
       "      <td>10084.4</td>\n",
       "      <td>1.043203</td>\n",
       "      <td>1.072307</td>\n",
       "      <td>1.298105</td>\n",
       "    </tr>\n",
       "    <tr>\n",
       "      <th>5</th>\n",
       "      <td>11394.7</td>\n",
       "      <td>8867.0</td>\n",
       "      <td>9257.6</td>\n",
       "      <td>9454.2</td>\n",
       "      <td>1.044051</td>\n",
       "      <td>1.066223</td>\n",
       "      <td>1.285068</td>\n",
       "    </tr>\n",
       "    <tr>\n",
       "      <th>6</th>\n",
       "      <td>10975.9</td>\n",
       "      <td>8869.2</td>\n",
       "      <td>8984.8</td>\n",
       "      <td>9509.9</td>\n",
       "      <td>1.013034</td>\n",
       "      <td>1.072239</td>\n",
       "      <td>1.237530</td>\n",
       "    </tr>\n",
       "    <tr>\n",
       "      <th>7</th>\n",
       "      <td>11213.4</td>\n",
       "      <td>8945.1</td>\n",
       "      <td>9320.2</td>\n",
       "      <td>9398.4</td>\n",
       "      <td>1.041934</td>\n",
       "      <td>1.050676</td>\n",
       "      <td>1.253580</td>\n",
       "    </tr>\n",
       "    <tr>\n",
       "      <th>8</th>\n",
       "      <td>11452.0</td>\n",
       "      <td>8935.7</td>\n",
       "      <td>9263.2</td>\n",
       "      <td>9472.4</td>\n",
       "      <td>1.036651</td>\n",
       "      <td>1.060062</td>\n",
       "      <td>1.281601</td>\n",
       "    </tr>\n",
       "    <tr>\n",
       "      <th>9</th>\n",
       "      <td>10550.6</td>\n",
       "      <td>8223.8</td>\n",
       "      <td>8473.3</td>\n",
       "      <td>8857.8</td>\n",
       "      <td>1.030339</td>\n",
       "      <td>1.077093</td>\n",
       "      <td>1.282935</td>\n",
       "    </tr>\n",
       "  </tbody>\n",
       "</table>\n",
       "</div>"
      ],
      "text/plain": [
       "    greedy  optimal  approx  approx_woc  approx_ratio  approx_woc_ratio  \\\n",
       "0  10795.6   8721.6  8874.3      9189.9      1.017508          1.053694   \n",
       "1  11359.4   9146.3  9420.8      9681.6      1.030012          1.058526   \n",
       "2  11255.3   8897.2  9140.8      9549.1      1.027379          1.073270   \n",
       "3  11081.1   8792.6  9164.7      9313.7      1.042320          1.059266   \n",
       "4  12207.9   9404.4  9810.7     10084.4      1.043203          1.072307   \n",
       "5  11394.7   8867.0  9257.6      9454.2      1.044051          1.066223   \n",
       "6  10975.9   8869.2  8984.8      9509.9      1.013034          1.072239   \n",
       "7  11213.4   8945.1  9320.2      9398.4      1.041934          1.050676   \n",
       "8  11452.0   8935.7  9263.2      9472.4      1.036651          1.060062   \n",
       "9  10550.6   8223.8  8473.3      8857.8      1.030339          1.077093   \n",
       "\n",
       "   greedy_ratio  \n",
       "0      1.237800  \n",
       "1      1.241967  \n",
       "2      1.265038  \n",
       "3      1.260276  \n",
       "4      1.298105  \n",
       "5      1.285068  \n",
       "6      1.237530  \n",
       "7      1.253580  \n",
       "8      1.281601  \n",
       "9      1.282935  "
      ]
     },
     "metadata": {},
     "output_type": "display_data"
    }
   ],
   "source": [
    "df_cost.loc[:, 'approx_ratio'] = df_cost['approx']/df_cost['optimal']\n",
    "df_cost.loc[:, 'approx_woc_ratio'] = df_cost['approx_woc']/df_cost['optimal']\n",
    "df_cost.loc[:, 'greedy_ratio'] = df_cost['greedy']/df_cost['optimal']\n",
    "display(df_cost)"
   ]
  },
  {
   "cell_type": "code",
   "execution_count": 8,
   "metadata": {},
   "outputs": [
    {
     "data": {
      "text/plain": [
       "approx_ratio        1.032643\n",
       "approx_woc_ratio    1.064336\n",
       "greedy_ratio        1.264390\n",
       "dtype: float64"
      ]
     },
     "execution_count": 8,
     "metadata": {},
     "output_type": "execute_result"
    }
   ],
   "source": [
    "df_cost[['approx_ratio', 'approx_woc_ratio', 'greedy_ratio']].mean()"
   ]
  },
  {
   "cell_type": "markdown",
   "metadata": {},
   "source": [
    "## Ride-sharing efficiency"
   ]
  },
  {
   "cell_type": "code",
   "execution_count": 9,
   "metadata": {},
   "outputs": [
    {
     "data": {
      "text/html": [
       "<div>\n",
       "<style scoped>\n",
       "    .dataframe tbody tr th:only-of-type {\n",
       "        vertical-align: middle;\n",
       "    }\n",
       "\n",
       "    .dataframe tbody tr th {\n",
       "        vertical-align: top;\n",
       "    }\n",
       "\n",
       "    .dataframe thead th {\n",
       "        text-align: right;\n",
       "    }\n",
       "</style>\n",
       "<table border=\"1\" class=\"dataframe\">\n",
       "  <thead>\n",
       "    <tr style=\"text-align: right;\">\n",
       "      <th></th>\n",
       "      <th>greedy</th>\n",
       "      <th>optimal</th>\n",
       "      <th>approx</th>\n",
       "      <th>approx_woc</th>\n",
       "      <th>approx_ratio</th>\n",
       "      <th>approx_woc_ratio</th>\n",
       "      <th>greedy_ratio</th>\n",
       "      <th>approx_gain</th>\n",
       "      <th>approx_woc_gain</th>\n",
       "      <th>optimal_gain</th>\n",
       "    </tr>\n",
       "  </thead>\n",
       "  <tbody>\n",
       "    <tr>\n",
       "      <th>0</th>\n",
       "      <td>10795.6</td>\n",
       "      <td>8721.6</td>\n",
       "      <td>8874.3</td>\n",
       "      <td>9189.9</td>\n",
       "      <td>1.017508</td>\n",
       "      <td>1.053694</td>\n",
       "      <td>1.237800</td>\n",
       "      <td>1.216502</td>\n",
       "      <td>1.174724</td>\n",
       "      <td>1.237800</td>\n",
       "    </tr>\n",
       "    <tr>\n",
       "      <th>1</th>\n",
       "      <td>11359.4</td>\n",
       "      <td>9146.3</td>\n",
       "      <td>9420.8</td>\n",
       "      <td>9681.6</td>\n",
       "      <td>1.030012</td>\n",
       "      <td>1.058526</td>\n",
       "      <td>1.241967</td>\n",
       "      <td>1.205779</td>\n",
       "      <td>1.173298</td>\n",
       "      <td>1.241967</td>\n",
       "    </tr>\n",
       "    <tr>\n",
       "      <th>2</th>\n",
       "      <td>11255.3</td>\n",
       "      <td>8897.2</td>\n",
       "      <td>9140.8</td>\n",
       "      <td>9549.1</td>\n",
       "      <td>1.027379</td>\n",
       "      <td>1.073270</td>\n",
       "      <td>1.265038</td>\n",
       "      <td>1.231325</td>\n",
       "      <td>1.178677</td>\n",
       "      <td>1.265038</td>\n",
       "    </tr>\n",
       "    <tr>\n",
       "      <th>3</th>\n",
       "      <td>11081.1</td>\n",
       "      <td>8792.6</td>\n",
       "      <td>9164.7</td>\n",
       "      <td>9313.7</td>\n",
       "      <td>1.042320</td>\n",
       "      <td>1.059266</td>\n",
       "      <td>1.260276</td>\n",
       "      <td>1.209107</td>\n",
       "      <td>1.189763</td>\n",
       "      <td>1.260276</td>\n",
       "    </tr>\n",
       "    <tr>\n",
       "      <th>4</th>\n",
       "      <td>12207.9</td>\n",
       "      <td>9404.4</td>\n",
       "      <td>9810.7</td>\n",
       "      <td>10084.4</td>\n",
       "      <td>1.043203</td>\n",
       "      <td>1.072307</td>\n",
       "      <td>1.298105</td>\n",
       "      <td>1.244345</td>\n",
       "      <td>1.210573</td>\n",
       "      <td>1.298105</td>\n",
       "    </tr>\n",
       "    <tr>\n",
       "      <th>5</th>\n",
       "      <td>11394.7</td>\n",
       "      <td>8867.0</td>\n",
       "      <td>9257.6</td>\n",
       "      <td>9454.2</td>\n",
       "      <td>1.044051</td>\n",
       "      <td>1.066223</td>\n",
       "      <td>1.285068</td>\n",
       "      <td>1.230848</td>\n",
       "      <td>1.205253</td>\n",
       "      <td>1.285068</td>\n",
       "    </tr>\n",
       "    <tr>\n",
       "      <th>6</th>\n",
       "      <td>10975.9</td>\n",
       "      <td>8869.2</td>\n",
       "      <td>8984.8</td>\n",
       "      <td>9509.9</td>\n",
       "      <td>1.013034</td>\n",
       "      <td>1.072239</td>\n",
       "      <td>1.237530</td>\n",
       "      <td>1.221608</td>\n",
       "      <td>1.154155</td>\n",
       "      <td>1.237530</td>\n",
       "    </tr>\n",
       "    <tr>\n",
       "      <th>7</th>\n",
       "      <td>11213.4</td>\n",
       "      <td>8945.1</td>\n",
       "      <td>9320.2</td>\n",
       "      <td>9398.4</td>\n",
       "      <td>1.041934</td>\n",
       "      <td>1.050676</td>\n",
       "      <td>1.253580</td>\n",
       "      <td>1.203129</td>\n",
       "      <td>1.193118</td>\n",
       "      <td>1.253580</td>\n",
       "    </tr>\n",
       "    <tr>\n",
       "      <th>8</th>\n",
       "      <td>11452.0</td>\n",
       "      <td>8935.7</td>\n",
       "      <td>9263.2</td>\n",
       "      <td>9472.4</td>\n",
       "      <td>1.036651</td>\n",
       "      <td>1.060062</td>\n",
       "      <td>1.281601</td>\n",
       "      <td>1.236290</td>\n",
       "      <td>1.208986</td>\n",
       "      <td>1.281601</td>\n",
       "    </tr>\n",
       "    <tr>\n",
       "      <th>9</th>\n",
       "      <td>10550.6</td>\n",
       "      <td>8223.8</td>\n",
       "      <td>8473.3</td>\n",
       "      <td>8857.8</td>\n",
       "      <td>1.030339</td>\n",
       "      <td>1.077093</td>\n",
       "      <td>1.282935</td>\n",
       "      <td>1.245158</td>\n",
       "      <td>1.191108</td>\n",
       "      <td>1.282935</td>\n",
       "    </tr>\n",
       "  </tbody>\n",
       "</table>\n",
       "</div>"
      ],
      "text/plain": [
       "    greedy  optimal  approx  approx_woc  approx_ratio  approx_woc_ratio  \\\n",
       "0  10795.6   8721.6  8874.3      9189.9      1.017508          1.053694   \n",
       "1  11359.4   9146.3  9420.8      9681.6      1.030012          1.058526   \n",
       "2  11255.3   8897.2  9140.8      9549.1      1.027379          1.073270   \n",
       "3  11081.1   8792.6  9164.7      9313.7      1.042320          1.059266   \n",
       "4  12207.9   9404.4  9810.7     10084.4      1.043203          1.072307   \n",
       "5  11394.7   8867.0  9257.6      9454.2      1.044051          1.066223   \n",
       "6  10975.9   8869.2  8984.8      9509.9      1.013034          1.072239   \n",
       "7  11213.4   8945.1  9320.2      9398.4      1.041934          1.050676   \n",
       "8  11452.0   8935.7  9263.2      9472.4      1.036651          1.060062   \n",
       "9  10550.6   8223.8  8473.3      8857.8      1.030339          1.077093   \n",
       "\n",
       "   greedy_ratio  approx_gain  approx_woc_gain  optimal_gain  \n",
       "0      1.237800     1.216502         1.174724      1.237800  \n",
       "1      1.241967     1.205779         1.173298      1.241967  \n",
       "2      1.265038     1.231325         1.178677      1.265038  \n",
       "3      1.260276     1.209107         1.189763      1.260276  \n",
       "4      1.298105     1.244345         1.210573      1.298105  \n",
       "5      1.285068     1.230848         1.205253      1.285068  \n",
       "6      1.237530     1.221608         1.154155      1.237530  \n",
       "7      1.253580     1.203129         1.193118      1.253580  \n",
       "8      1.281601     1.236290         1.208986      1.281601  \n",
       "9      1.282935     1.245158         1.191108      1.282935  "
      ]
     },
     "metadata": {},
     "output_type": "display_data"
    }
   ],
   "source": [
    "df_cost.loc[:, 'approx_gain'] = df_cost['greedy']/df_cost['approx']\n",
    "df_cost.loc[:, 'approx_woc_gain'] = df_cost['greedy']/df_cost['approx_woc']\n",
    "df_cost.loc[:, 'optimal_gain'] = df_cost['greedy']/df_cost['optimal']\n",
    "display(df_cost)"
   ]
  },
  {
   "cell_type": "code",
   "execution_count": 10,
   "metadata": {},
   "outputs": [
    {
     "data": {
      "text/plain": [
       "approx_gain        1.224409\n",
       "approx_woc_gain    1.187966\n",
       "optimal_gain       1.264390\n",
       "dtype: float64"
      ]
     },
     "execution_count": 10,
     "metadata": {},
     "output_type": "execute_result"
    }
   ],
   "source": [
    "df_cost[['approx_gain', 'approx_woc_gain', 'optimal_gain']].mean()"
   ]
  },
  {
   "cell_type": "code",
   "execution_count": 11,
   "metadata": {},
   "outputs": [
    {
     "data": {
      "text/plain": [
       "greedy        11228.59\n",
       "optimal        8880.29\n",
       "approx         9171.04\n",
       "approx_woc     9451.14\n",
       "dtype: float64"
      ]
     },
     "execution_count": 11,
     "metadata": {},
     "output_type": "execute_result"
    }
   ],
   "source": [
    "df_cost[['greedy', 'optimal', 'approx', 'approx_woc']].mean()"
   ]
  },
  {
   "cell_type": "markdown",
   "metadata": {},
   "source": [
    "# Plots"
   ]
  },
  {
   "cell_type": "markdown",
   "metadata": {},
   "source": [
    "## Processing time"
   ]
  },
  {
   "cell_type": "code",
   "execution_count": 12,
   "metadata": {},
   "outputs": [
    {
     "data": {
      "image/png": "[encoded data removed]",
      "text/plain": [
       "<Figure size 720x504 with 1 Axes>"
      ]
     },
     "metadata": {
      "needs_background": "light"
     },
     "output_type": "display_data"
    }
   ],
   "source": [
    "plot_proc_time(\n",
    "    df_time, \n",
    "    sizes, \n",
    "    exp_name, \n",
    "    ylim=(10**-2, 10**2),\n",
    "    plot_optimal=True\n",
    ")"
   ]
  },
  {
   "cell_type": "markdown",
   "metadata": {},
   "source": [
    "## Travel cost"
   ]
  },
  {
   "cell_type": "code",
   "execution_count": 13,
   "metadata": {},
   "outputs": [
    {
     "data": {
      "image/png": "[encoded data removed]",
      "text/plain": [
       "<Figure size 720x504 with 1 Axes>"
      ]
     },
     "metadata": {
      "needs_background": "light"
     },
     "output_type": "display_data"
    }
   ],
   "source": [
    "plot_travel_cost(\n",
    "    df_cost, \n",
    "    sizes, \n",
    "    exp_name, \n",
    "    ylim=(7000,14000),\n",
    "    plot_optimal=True\n",
    ")"
   ]
  },
  {
   "cell_type": "markdown",
   "metadata": {},
   "source": [
    "## Approximation ratio"
   ]
  },
  {
   "cell_type": "code",
   "execution_count": 14,
   "metadata": {},
   "outputs": [
    {
     "data": {
      "image/png": "[encoded data removed]",
      "text/plain": [
       "<Figure size 720x504 with 1 Axes>"
      ]
     },
     "metadata": {
      "needs_background": "light"
     },
     "output_type": "display_data"
    }
   ],
   "source": [
    "plot_approx_ratio(\n",
    "    df_cost, \n",
    "    sizes, \n",
    "    exp_name, \n",
    "    ylim=(1.,1.5)\n",
    ")"
   ]
  },
  {
   "cell_type": "markdown",
   "metadata": {},
   "source": [
    "## Ride-sharing efficiency"
   ]
  },
  {
   "cell_type": "code",
   "execution_count": 15,
   "metadata": {},
   "outputs": [
    {
     "data": {
      "image/png": "[encoded data removed]",
      "text/plain": [
       "<Figure size 720x504 with 1 Axes>"
      ]
     },
     "metadata": {
      "needs_background": "light"
     },
     "output_type": "display_data"
    }
   ],
   "source": [
    "plot_rs_efficiency(\n",
    "    df_cost, \n",
    "    sizes, \n",
    "    exp_name, \n",
    "    ylim=(1.,1.5),\n",
    "    plot_optimal=True\n",
    ")"
   ]
  },
  {
   "cell_type": "code",
   "execution_count": null,
   "metadata": {},
   "outputs": [],
   "source": []
  }
 ],
 "metadata": {
  "kernelspec": {
   "display_name": "Python 3",
   "language": "python",
   "name": "python3"
  },
  "language_info": {
   "codemirror_mode": {
    "name": "ipython",
    "version": 3
   },
   "file_extension": ".py",
   "mimetype": "text/x-python",
   "name": "python",
   "nbconvert_exporter": "python",
   "pygments_lexer": "ipython3",
   "version": "3.6.10"
  }
 },
 "nbformat": 4,
 "nbformat_minor": 4
}
