{
 "cells": [
  {
   "cell_type": "markdown",
   "metadata": {},
   "source": [
    "# Import libraries"
   ]
  },
  {
   "cell_type": "code",
   "execution_count": 1,
   "metadata": {},
   "outputs": [],
   "source": [
    "%load_ext autoreload\n",
    "%autoreload 2\n",
    "import numpy as np\n",
    "import pandas as pd\n",
    "import matplotlib.pyplot as plt\n",
    "import os\n",
    "from utils import *\n",
    "\n",
    "plt.style.use('ggplot')"
   ]
  },
  {
   "cell_type": "markdown",
   "metadata": {},
   "source": [
    "# Parameters"
   ]
  },
  {
   "cell_type": "code",
   "execution_count": 2,
   "metadata": {},
   "outputs": [],
   "source": [
    "fig_dir = 'data/figure'\n",
    "exp_name = 'compare_number_of_user'\n",
    "time_path = 'data/time/compare_number_of_user_2020_12_3_2_52_3.npy'\n",
    "cost_path = 'data/cost/compare_number_of_user_2020_12_3_2_52_3.npy'\n",
    "methods = ['greedy', 'approx', 'approx_woc']\n",
    "sizes = np.arange(8, 101, step=8)\n",
    "repeats = len(sizes)"
   ]
  },
  {
   "cell_type": "markdown",
   "metadata": {},
   "source": [
    "# Load data"
   ]
  },
  {
   "cell_type": "code",
   "execution_count": 3,
   "metadata": {},
   "outputs": [
    {
     "name": "stdout",
     "output_type": "stream",
     "text": [
      "(36,) (36,)\n",
      "Wall time: 6 ms\n"
     ]
    }
   ],
   "source": [
    "%%time\n",
    "run_time = np.load(time_path)\n",
    "travel_cost = np.load(cost_path)\n",
    "print(run_time.shape, travel_cost.shape)"
   ]
  },
  {
   "cell_type": "markdown",
   "metadata": {},
   "source": [
    "# Convert to DataFrame"
   ]
  },
  {
   "cell_type": "code",
   "execution_count": 4,
   "metadata": {},
   "outputs": [
    {
     "name": "stdout",
     "output_type": "stream",
     "text": [
      "(12, 4)\n",
      "<class 'pandas.core.frame.DataFrame'>\n",
      "RangeIndex: 12 entries, 0 to 11\n",
      "Data columns (total 4 columns):\n",
      " #   Column      Non-Null Count  Dtype  \n",
      "---  ------      --------------  -----  \n",
      " 0   greedy      12 non-null     float64\n",
      " 1   approx      12 non-null     float64\n",
      " 2   approx_woc  12 non-null     float64\n",
      " 3   size        12 non-null     int32  \n",
      "dtypes: float64(3), int32(1)\n",
      "memory usage: 464.0 bytes\n",
      "None\n"
     ]
    },
    {
     "data": {
      "text/html": [
       "<div>\n",
       "<style scoped>\n",
       "    .dataframe tbody tr th:only-of-type {\n",
       "        vertical-align: middle;\n",
       "    }\n",
       "\n",
       "    .dataframe tbody tr th {\n",
       "        vertical-align: top;\n",
       "    }\n",
       "\n",
       "    .dataframe thead th {\n",
       "        text-align: right;\n",
       "    }\n",
       "</style>\n",
       "<table border=\"1\" class=\"dataframe\">\n",
       "  <thead>\n",
       "    <tr style=\"text-align: right;\">\n",
       "      <th></th>\n",
       "      <th>greedy</th>\n",
       "      <th>approx</th>\n",
       "      <th>approx_woc</th>\n",
       "      <th>size</th>\n",
       "    </tr>\n",
       "  </thead>\n",
       "  <tbody>\n",
       "    <tr>\n",
       "      <th>0</th>\n",
       "      <td>0.000000</td>\n",
       "      <td>0.342807</td>\n",
       "      <td>0.043177</td>\n",
       "      <td>8</td>\n",
       "    </tr>\n",
       "    <tr>\n",
       "      <th>1</th>\n",
       "      <td>0.000100</td>\n",
       "      <td>0.752940</td>\n",
       "      <td>0.108587</td>\n",
       "      <td>16</td>\n",
       "    </tr>\n",
       "    <tr>\n",
       "      <th>2</th>\n",
       "      <td>0.000000</td>\n",
       "      <td>1.156513</td>\n",
       "      <td>0.251633</td>\n",
       "      <td>24</td>\n",
       "    </tr>\n",
       "    <tr>\n",
       "      <th>3</th>\n",
       "      <td>0.000000</td>\n",
       "      <td>1.710733</td>\n",
       "      <td>0.403261</td>\n",
       "      <td>32</td>\n",
       "    </tr>\n",
       "    <tr>\n",
       "      <th>4</th>\n",
       "      <td>0.000000</td>\n",
       "      <td>1.968207</td>\n",
       "      <td>0.569571</td>\n",
       "      <td>40</td>\n",
       "    </tr>\n",
       "    <tr>\n",
       "      <th>5</th>\n",
       "      <td>0.000100</td>\n",
       "      <td>2.518293</td>\n",
       "      <td>1.893707</td>\n",
       "      <td>48</td>\n",
       "    </tr>\n",
       "    <tr>\n",
       "      <th>6</th>\n",
       "      <td>0.000000</td>\n",
       "      <td>3.446315</td>\n",
       "      <td>1.719422</td>\n",
       "      <td>56</td>\n",
       "    </tr>\n",
       "    <tr>\n",
       "      <th>7</th>\n",
       "      <td>0.000000</td>\n",
       "      <td>5.196990</td>\n",
       "      <td>11.109667</td>\n",
       "      <td>64</td>\n",
       "    </tr>\n",
       "    <tr>\n",
       "      <th>8</th>\n",
       "      <td>0.000201</td>\n",
       "      <td>4.450724</td>\n",
       "      <td>108.837893</td>\n",
       "      <td>72</td>\n",
       "    </tr>\n",
       "    <tr>\n",
       "      <th>9</th>\n",
       "      <td>0.000000</td>\n",
       "      <td>4.950365</td>\n",
       "      <td>5.292651</td>\n",
       "      <td>80</td>\n",
       "    </tr>\n",
       "    <tr>\n",
       "      <th>10</th>\n",
       "      <td>0.000000</td>\n",
       "      <td>6.457666</td>\n",
       "      <td>119.370900</td>\n",
       "      <td>88</td>\n",
       "    </tr>\n",
       "    <tr>\n",
       "      <th>11</th>\n",
       "      <td>0.000000</td>\n",
       "      <td>6.512396</td>\n",
       "      <td>472.402305</td>\n",
       "      <td>96</td>\n",
       "    </tr>\n",
       "  </tbody>\n",
       "</table>\n",
       "</div>"
      ],
      "text/plain": [
       "      greedy    approx  approx_woc  size\n",
       "0   0.000000  0.342807    0.043177     8\n",
       "1   0.000100  0.752940    0.108587    16\n",
       "2   0.000000  1.156513    0.251633    24\n",
       "3   0.000000  1.710733    0.403261    32\n",
       "4   0.000000  1.968207    0.569571    40\n",
       "5   0.000100  2.518293    1.893707    48\n",
       "6   0.000000  3.446315    1.719422    56\n",
       "7   0.000000  5.196990   11.109667    64\n",
       "8   0.000201  4.450724  108.837893    72\n",
       "9   0.000000  4.950365    5.292651    80\n",
       "10  0.000000  6.457666  119.370900    88\n",
       "11  0.000000  6.512396  472.402305    96"
      ]
     },
     "metadata": {},
     "output_type": "display_data"
    }
   ],
   "source": [
    "df_time = pd.DataFrame(run_time.reshape(repeats,-1)/np.power(10,6), columns=methods)\n",
    "df_time.loc[:, 'size'] = sizes\n",
    "print(df_time.shape)\n",
    "print(df_time.info())\n",
    "display(df_time)"
   ]
  },
  {
   "cell_type": "code",
   "execution_count": 5,
   "metadata": {},
   "outputs": [
    {
     "name": "stdout",
     "output_type": "stream",
     "text": [
      "(12, 4)\n",
      "<class 'pandas.core.frame.DataFrame'>\n",
      "RangeIndex: 12 entries, 0 to 11\n",
      "Data columns (total 4 columns):\n",
      " #   Column      Non-Null Count  Dtype  \n",
      "---  ------      --------------  -----  \n",
      " 0   greedy      12 non-null     float64\n",
      " 1   approx      12 non-null     float64\n",
      " 2   approx_woc  12 non-null     float64\n",
      " 3   size        12 non-null     int32  \n",
      "dtypes: float64(3), int32(1)\n",
      "memory usage: 464.0 bytes\n",
      "None\n"
     ]
    },
    {
     "data": {
      "text/html": [
       "<div>\n",
       "<style scoped>\n",
       "    .dataframe tbody tr th:only-of-type {\n",
       "        vertical-align: middle;\n",
       "    }\n",
       "\n",
       "    .dataframe tbody tr th {\n",
       "        vertical-align: top;\n",
       "    }\n",
       "\n",
       "    .dataframe thead th {\n",
       "        text-align: right;\n",
       "    }\n",
       "</style>\n",
       "<table border=\"1\" class=\"dataframe\">\n",
       "  <thead>\n",
       "    <tr style=\"text-align: right;\">\n",
       "      <th></th>\n",
       "      <th>greedy</th>\n",
       "      <th>approx</th>\n",
       "      <th>approx_woc</th>\n",
       "      <th>size</th>\n",
       "    </tr>\n",
       "  </thead>\n",
       "  <tbody>\n",
       "    <tr>\n",
       "      <th>0</th>\n",
       "      <td>5813.9</td>\n",
       "      <td>5337.1</td>\n",
       "      <td>5397.9</td>\n",
       "      <td>8</td>\n",
       "    </tr>\n",
       "    <tr>\n",
       "      <th>1</th>\n",
       "      <td>11287.5</td>\n",
       "      <td>9300.4</td>\n",
       "      <td>9903.5</td>\n",
       "      <td>16</td>\n",
       "    </tr>\n",
       "    <tr>\n",
       "      <th>2</th>\n",
       "      <td>16960.2</td>\n",
       "      <td>13097.9</td>\n",
       "      <td>13608.5</td>\n",
       "      <td>24</td>\n",
       "    </tr>\n",
       "    <tr>\n",
       "      <th>3</th>\n",
       "      <td>21514.0</td>\n",
       "      <td>16282.3</td>\n",
       "      <td>16730.7</td>\n",
       "      <td>32</td>\n",
       "    </tr>\n",
       "    <tr>\n",
       "      <th>4</th>\n",
       "      <td>28289.8</td>\n",
       "      <td>20842.9</td>\n",
       "      <td>20768.9</td>\n",
       "      <td>40</td>\n",
       "    </tr>\n",
       "    <tr>\n",
       "      <th>5</th>\n",
       "      <td>32199.5</td>\n",
       "      <td>23725.1</td>\n",
       "      <td>22775.2</td>\n",
       "      <td>48</td>\n",
       "    </tr>\n",
       "    <tr>\n",
       "      <th>6</th>\n",
       "      <td>39718.4</td>\n",
       "      <td>28204.8</td>\n",
       "      <td>27755.4</td>\n",
       "      <td>56</td>\n",
       "    </tr>\n",
       "    <tr>\n",
       "      <th>7</th>\n",
       "      <td>49081.3</td>\n",
       "      <td>32391.2</td>\n",
       "      <td>31362.9</td>\n",
       "      <td>64</td>\n",
       "    </tr>\n",
       "    <tr>\n",
       "      <th>8</th>\n",
       "      <td>50559.5</td>\n",
       "      <td>34404.1</td>\n",
       "      <td>32431.4</td>\n",
       "      <td>72</td>\n",
       "    </tr>\n",
       "    <tr>\n",
       "      <th>9</th>\n",
       "      <td>55317.7</td>\n",
       "      <td>37172.4</td>\n",
       "      <td>35034.1</td>\n",
       "      <td>80</td>\n",
       "    </tr>\n",
       "    <tr>\n",
       "      <th>10</th>\n",
       "      <td>61243.2</td>\n",
       "      <td>40585.5</td>\n",
       "      <td>38000.9</td>\n",
       "      <td>88</td>\n",
       "    </tr>\n",
       "    <tr>\n",
       "      <th>11</th>\n",
       "      <td>64254.9</td>\n",
       "      <td>43482.8</td>\n",
       "      <td>39746.0</td>\n",
       "      <td>96</td>\n",
       "    </tr>\n",
       "  </tbody>\n",
       "</table>\n",
       "</div>"
      ],
      "text/plain": [
       "     greedy   approx  approx_woc  size\n",
       "0    5813.9   5337.1      5397.9     8\n",
       "1   11287.5   9300.4      9903.5    16\n",
       "2   16960.2  13097.9     13608.5    24\n",
       "3   21514.0  16282.3     16730.7    32\n",
       "4   28289.8  20842.9     20768.9    40\n",
       "5   32199.5  23725.1     22775.2    48\n",
       "6   39718.4  28204.8     27755.4    56\n",
       "7   49081.3  32391.2     31362.9    64\n",
       "8   50559.5  34404.1     32431.4    72\n",
       "9   55317.7  37172.4     35034.1    80\n",
       "10  61243.2  40585.5     38000.9    88\n",
       "11  64254.9  43482.8     39746.0    96"
      ]
     },
     "metadata": {},
     "output_type": "display_data"
    }
   ],
   "source": [
    "df_cost =  pd.DataFrame(travel_cost.reshape(repeats,-1), columns=methods)\n",
    "df_cost.loc[:, 'size'] = sizes\n",
    "print(df_cost.shape)\n",
    "print(df_cost.info())\n",
    "display(df_cost)"
   ]
  },
  {
   "cell_type": "markdown",
   "metadata": {},
   "source": [
    "# Calculate metrics "
   ]
  },
  {
   "cell_type": "markdown",
   "metadata": {},
   "source": [
    "## Processing time"
   ]
  },
  {
   "cell_type": "code",
   "execution_count": 6,
   "metadata": {},
   "outputs": [
    {
     "data": {
      "text/plain": [
       "greedy         0.000033\n",
       "approx         3.288662\n",
       "approx_woc    60.166898\n",
       "size          52.000000\n",
       "dtype: float64"
      ]
     },
     "execution_count": 6,
     "metadata": {},
     "output_type": "execute_result"
    }
   ],
   "source": [
    "df_time.mean()"
   ]
  },
  {
   "cell_type": "markdown",
   "metadata": {},
   "source": [
    "## Ride-sharing efficiency"
   ]
  },
  {
   "cell_type": "code",
   "execution_count": 7,
   "metadata": {},
   "outputs": [
    {
     "data": {
      "text/html": [
       "<div>\n",
       "<style scoped>\n",
       "    .dataframe tbody tr th:only-of-type {\n",
       "        vertical-align: middle;\n",
       "    }\n",
       "\n",
       "    .dataframe tbody tr th {\n",
       "        vertical-align: top;\n",
       "    }\n",
       "\n",
       "    .dataframe thead th {\n",
       "        text-align: right;\n",
       "    }\n",
       "</style>\n",
       "<table border=\"1\" class=\"dataframe\">\n",
       "  <thead>\n",
       "    <tr style=\"text-align: right;\">\n",
       "      <th></th>\n",
       "      <th>greedy</th>\n",
       "      <th>approx</th>\n",
       "      <th>approx_woc</th>\n",
       "      <th>size</th>\n",
       "      <th>approx_gain</th>\n",
       "      <th>approx_woc_gain</th>\n",
       "    </tr>\n",
       "  </thead>\n",
       "  <tbody>\n",
       "    <tr>\n",
       "      <th>0</th>\n",
       "      <td>5813.9</td>\n",
       "      <td>5337.1</td>\n",
       "      <td>5397.9</td>\n",
       "      <td>8</td>\n",
       "      <td>1.089337</td>\n",
       "      <td>1.077067</td>\n",
       "    </tr>\n",
       "    <tr>\n",
       "      <th>1</th>\n",
       "      <td>11287.5</td>\n",
       "      <td>9300.4</td>\n",
       "      <td>9903.5</td>\n",
       "      <td>16</td>\n",
       "      <td>1.213657</td>\n",
       "      <td>1.139749</td>\n",
       "    </tr>\n",
       "    <tr>\n",
       "      <th>2</th>\n",
       "      <td>16960.2</td>\n",
       "      <td>13097.9</td>\n",
       "      <td>13608.5</td>\n",
       "      <td>24</td>\n",
       "      <td>1.294879</td>\n",
       "      <td>1.246295</td>\n",
       "    </tr>\n",
       "    <tr>\n",
       "      <th>3</th>\n",
       "      <td>21514.0</td>\n",
       "      <td>16282.3</td>\n",
       "      <td>16730.7</td>\n",
       "      <td>32</td>\n",
       "      <td>1.321312</td>\n",
       "      <td>1.285900</td>\n",
       "    </tr>\n",
       "    <tr>\n",
       "      <th>4</th>\n",
       "      <td>28289.8</td>\n",
       "      <td>20842.9</td>\n",
       "      <td>20768.9</td>\n",
       "      <td>40</td>\n",
       "      <td>1.357287</td>\n",
       "      <td>1.362123</td>\n",
       "    </tr>\n",
       "    <tr>\n",
       "      <th>5</th>\n",
       "      <td>32199.5</td>\n",
       "      <td>23725.1</td>\n",
       "      <td>22775.2</td>\n",
       "      <td>48</td>\n",
       "      <td>1.357191</td>\n",
       "      <td>1.413797</td>\n",
       "    </tr>\n",
       "    <tr>\n",
       "      <th>6</th>\n",
       "      <td>39718.4</td>\n",
       "      <td>28204.8</td>\n",
       "      <td>27755.4</td>\n",
       "      <td>56</td>\n",
       "      <td>1.408214</td>\n",
       "      <td>1.431015</td>\n",
       "    </tr>\n",
       "    <tr>\n",
       "      <th>7</th>\n",
       "      <td>49081.3</td>\n",
       "      <td>32391.2</td>\n",
       "      <td>31362.9</td>\n",
       "      <td>64</td>\n",
       "      <td>1.515266</td>\n",
       "      <td>1.564948</td>\n",
       "    </tr>\n",
       "    <tr>\n",
       "      <th>8</th>\n",
       "      <td>50559.5</td>\n",
       "      <td>34404.1</td>\n",
       "      <td>32431.4</td>\n",
       "      <td>72</td>\n",
       "      <td>1.469578</td>\n",
       "      <td>1.558968</td>\n",
       "    </tr>\n",
       "    <tr>\n",
       "      <th>9</th>\n",
       "      <td>55317.7</td>\n",
       "      <td>37172.4</td>\n",
       "      <td>35034.1</td>\n",
       "      <td>80</td>\n",
       "      <td>1.488139</td>\n",
       "      <td>1.578967</td>\n",
       "    </tr>\n",
       "    <tr>\n",
       "      <th>10</th>\n",
       "      <td>61243.2</td>\n",
       "      <td>40585.5</td>\n",
       "      <td>38000.9</td>\n",
       "      <td>88</td>\n",
       "      <td>1.508992</td>\n",
       "      <td>1.611625</td>\n",
       "    </tr>\n",
       "    <tr>\n",
       "      <th>11</th>\n",
       "      <td>64254.9</td>\n",
       "      <td>43482.8</td>\n",
       "      <td>39746.0</td>\n",
       "      <td>96</td>\n",
       "      <td>1.477708</td>\n",
       "      <td>1.616638</td>\n",
       "    </tr>\n",
       "  </tbody>\n",
       "</table>\n",
       "</div>"
      ],
      "text/plain": [
       "     greedy   approx  approx_woc  size  approx_gain  approx_woc_gain\n",
       "0    5813.9   5337.1      5397.9     8     1.089337         1.077067\n",
       "1   11287.5   9300.4      9903.5    16     1.213657         1.139749\n",
       "2   16960.2  13097.9     13608.5    24     1.294879         1.246295\n",
       "3   21514.0  16282.3     16730.7    32     1.321312         1.285900\n",
       "4   28289.8  20842.9     20768.9    40     1.357287         1.362123\n",
       "5   32199.5  23725.1     22775.2    48     1.357191         1.413797\n",
       "6   39718.4  28204.8     27755.4    56     1.408214         1.431015\n",
       "7   49081.3  32391.2     31362.9    64     1.515266         1.564948\n",
       "8   50559.5  34404.1     32431.4    72     1.469578         1.558968\n",
       "9   55317.7  37172.4     35034.1    80     1.488139         1.578967\n",
       "10  61243.2  40585.5     38000.9    88     1.508992         1.611625\n",
       "11  64254.9  43482.8     39746.0    96     1.477708         1.616638"
      ]
     },
     "metadata": {},
     "output_type": "display_data"
    }
   ],
   "source": [
    "df_cost.loc[:, 'approx_gain'] = df_cost['greedy']/df_cost['approx']\n",
    "df_cost.loc[:, 'approx_woc_gain'] = df_cost['greedy']/df_cost['approx_woc']\n",
    "display(df_cost)"
   ]
  },
  {
   "cell_type": "code",
   "execution_count": 8,
   "metadata": {},
   "outputs": [
    {
     "data": {
      "text/plain": [
       "approx_gain        1.375130\n",
       "approx_woc_gain    1.407258\n",
       "dtype: float64"
      ]
     },
     "execution_count": 8,
     "metadata": {},
     "output_type": "execute_result"
    }
   ],
   "source": [
    "df_cost[['approx_gain', 'approx_woc_gain']].mean()"
   ]
  },
  {
   "cell_type": "code",
   "execution_count": 9,
   "metadata": {},
   "outputs": [
    {
     "data": {
      "text/plain": [
       "greedy        36353.325000\n",
       "approx        25402.208333\n",
       "approx_woc    24459.616667\n",
       "dtype: float64"
      ]
     },
     "execution_count": 9,
     "metadata": {},
     "output_type": "execute_result"
    }
   ],
   "source": [
    "df_cost[['greedy', 'approx', 'approx_woc']].mean()"
   ]
  },
  {
   "cell_type": "markdown",
   "metadata": {},
   "source": [
    "# Plots"
   ]
  },
  {
   "cell_type": "markdown",
   "metadata": {},
   "source": [
    "## Processing time"
   ]
  },
  {
   "cell_type": "code",
   "execution_count": 10,
   "metadata": {},
   "outputs": [
    {
     "data": {
      "image/png": "[encoded data removed]",
      "text/plain": [
       "<Figure size 720x504 with 1 Axes>"
      ]
     },
     "metadata": {},
     "output_type": "display_data"
    }
   ],
   "source": [
    "plt.figure(figsize=(10, 7))\n",
    "plt.plot(sizes, df_time['approx'], label='approx')\n",
    "plt.plot(sizes, df_time['approx_woc'], label='approx_woc')\n",
    "plt.yscale('log')\n",
    "plt.xlabel('Number of users', fontsize=14)\n",
    "plt.ylabel('Time [s]', fontsize=14)\n",
    "plt.title('Processing time')\n",
    "plt.legend()\n",
    "plt.savefig(os.path.join(fig_dir, f'{exp_name}_proc_time.png'))\n",
    "plt.show()"
   ]
  },
  {
   "cell_type": "markdown",
   "metadata": {},
   "source": [
    "## Travel cost"
   ]
  },
  {
   "cell_type": "code",
   "execution_count": 11,
   "metadata": {},
   "outputs": [
    {
     "data": {
      "image/png": "[encoded data removed]",
      "text/plain": [
       "<Figure size 720x504 with 1 Axes>"
      ]
     },
     "metadata": {},
     "output_type": "display_data"
    }
   ],
   "source": [
    "plt.figure(figsize=(10, 7))\n",
    "plt.plot(sizes, df_cost['greedy'], label='greedy')\n",
    "plt.plot(sizes, df_cost['approx'], label='approx')\n",
    "plt.plot(sizes, df_cost['approx_woc'], label='approx_woc')\n",
    "plt.xlabel('Number of users', fontsize=14)\n",
    "plt.ylabel('Travel cost [m]', fontsize=14)\n",
    "plt.title('Travel cost')\n",
    "plt.legend()\n",
    "plt.savefig(os.path.join(fig_dir, f'{exp_name}_travel_cost.png'))\n",
    "plt.show()"
   ]
  },
  {
   "cell_type": "markdown",
   "metadata": {},
   "source": [
    "## Ride-sharing efficiency"
   ]
  },
  {
   "cell_type": "code",
   "execution_count": 12,
   "metadata": {},
   "outputs": [
    {
     "data": {
      "image/png": "[encoded data removed]",
      "text/plain": [
       "<Figure size 720x504 with 1 Axes>"
      ]
     },
     "metadata": {},
     "output_type": "display_data"
    }
   ],
   "source": [
    "plt.figure(figsize=(10, 7))\n",
    "plt.plot(sizes, df_cost['approx_gain'], label='approx')\n",
    "plt.plot(sizes, df_cost['approx_woc_gain'], label='approx_woc')\n",
    "plt.xlabel('Number of users', fontsize=14)\n",
    "plt.ylabel('Ratio', fontsize=14)\n",
    "plt.title('Ride-sharing efficiency')\n",
    "plt.legend()\n",
    "plt.savefig(os.path.join(fig_dir, f'{exp_name}_rs_efficiency.png'))\n",
    "plt.show()"
   ]
  },
  {
   "cell_type": "code",
   "execution_count": null,
   "metadata": {},
   "outputs": [],
   "source": []
  }
 ],
 "metadata": {
  "kernelspec": {
   "display_name": "Python 3",
   "language": "python",
   "name": "python3"
  },
  "language_info": {
   "codemirror_mode": {
    "name": "ipython",
    "version": 3
   },
   "file_extension": ".py",
   "mimetype": "text/x-python",
   "name": "python",
   "nbconvert_exporter": "python",
   "pygments_lexer": "ipython3",
   "version": "3.6.10"
  }
 },
 "nbformat": 4,
 "nbformat_minor": 4
}
